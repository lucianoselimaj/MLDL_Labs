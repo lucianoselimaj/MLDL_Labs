{
  "nbformat": 4,
  "nbformat_minor": 0,
  "metadata": {
    "colab": {
      "provenance": [],
      "authorship_tag": "ABX9TyOyYmrxvdApy4LXSo5KP4/b",
      "include_colab_link": true
    },
    "kernelspec": {
      "name": "python3",
      "display_name": "Python 3"
    },
    "language_info": {
      "name": "python"
    }
  },
  "cells": [
    {
      "cell_type": "markdown",
      "metadata": {
        "id": "view-in-github",
        "colab_type": "text"
      },
      "source": [
        "<a href=\"https://colab.research.google.com/github/lucianoselimaj/MLDL_Labs/blob/main/Numpy.ipynb\" target=\"_parent\"><img src=\"https://colab.research.google.com/assets/colab-badge.svg\" alt=\"Open In Colab\"/></a>"
      ]
    },
    {
      "cell_type": "markdown",
      "source": [
        "Numpy: Numerical Python <br>\n",
        "\n",
        "\n",
        "*   Stores and operates on dense data buffers\n",
        "*   Efficient storage and operations"
      ],
      "metadata": {
        "id": "FHtipLmFr1zT"
      }
    },
    {
      "cell_type": "markdown",
      "source": [
        "Array <br>\n",
        "It is the main object provided by Numpy:\n",
        "*   Fixed Type (all elements have the same type)\n",
        "*   Multidimensional\n",
        "\n"
      ],
      "metadata": {
        "id": "ECWSPVvG0PWI"
      }
    },
    {
      "cell_type": "code",
      "execution_count": 3,
      "metadata": {
        "id": "ym7eKfV5nv_I"
      },
      "outputs": [],
      "source": [
        "import numpy as np\n",
        "\n",
        "#vector\n",
        "v = np.array([1,2,3])\n",
        "\n",
        "#multidimensional\n",
        "m = np.array([[1,2,3],[4,5,6]])"
      ]
    },
    {
      "cell_type": "markdown",
      "source": [
        "Vector:\n",
        "*   shape(3,) --> x0 <br>\n",
        "\n",
        "2D Matrix:\n",
        "*   shape(2,3) --> x0,x1<br>\n",
        "\n",
        "3D Array:\n",
        "*   shape(3,2,3) --> x0,x1,x2\n",
        "\n",
        "\n",
        "\n",
        "\n",
        "\n",
        "\n",
        "\n"
      ],
      "metadata": {
        "id": "aU_w41GO28Lr"
      }
    },
    {
      "cell_type": "code",
      "source": [
        "#creation from a list\n",
        "l = [[1,2,3][5,6,7]]\n",
        "a = np.array(l)\n",
        "\n",
        "z = np.zeros((2,3))\n",
        "o = np.ones((3,))\n",
        "f = np.full((2,2),5)"
      ],
      "metadata": {
        "colab": {
          "base_uri": "https://localhost:8080/",
          "height": 287
        },
        "id": "yUtDEjt_31gE",
        "outputId": "67e5e248-16bb-4434-bad8-421312803c35"
      },
      "execution_count": 2,
      "outputs": [
        {
          "output_type": "stream",
          "name": "stderr",
          "text": [
            "<>:2: SyntaxWarning: list indices must be integers or slices, not tuple; perhaps you missed a comma?\n",
            "<>:2: SyntaxWarning: list indices must be integers or slices, not tuple; perhaps you missed a comma?\n",
            "<ipython-input-2-a6d723d11e30>:2: SyntaxWarning: list indices must be integers or slices, not tuple; perhaps you missed a comma?\n",
            "  l = [[1,2,3][5,6,7]]\n"
          ]
        },
        {
          "output_type": "error",
          "ename": "TypeError",
          "evalue": "list indices must be integers or slices, not tuple",
          "traceback": [
            "\u001b[0;31m---------------------------------------------------------------------------\u001b[0m",
            "\u001b[0;31mTypeError\u001b[0m                                 Traceback (most recent call last)",
            "\u001b[0;32m<ipython-input-2-a6d723d11e30>\u001b[0m in \u001b[0;36m<cell line: 0>\u001b[0;34m()\u001b[0m\n\u001b[1;32m      1\u001b[0m \u001b[0;31m#creation from a list\u001b[0m\u001b[0;34m\u001b[0m\u001b[0;34m\u001b[0m\u001b[0m\n\u001b[0;32m----> 2\u001b[0;31m \u001b[0ml\u001b[0m \u001b[0;34m=\u001b[0m \u001b[0;34m[\u001b[0m\u001b[0;34m[\u001b[0m\u001b[0;36m1\u001b[0m\u001b[0;34m,\u001b[0m\u001b[0;36m2\u001b[0m\u001b[0;34m,\u001b[0m\u001b[0;36m3\u001b[0m\u001b[0;34m]\u001b[0m\u001b[0;34m[\u001b[0m\u001b[0;36m5\u001b[0m\u001b[0;34m,\u001b[0m\u001b[0;36m6\u001b[0m\u001b[0;34m,\u001b[0m\u001b[0;36m7\u001b[0m\u001b[0;34m]\u001b[0m\u001b[0;34m]\u001b[0m\u001b[0;34m\u001b[0m\u001b[0;34m\u001b[0m\u001b[0m\n\u001b[0m\u001b[1;32m      3\u001b[0m \u001b[0ma\u001b[0m \u001b[0;34m=\u001b[0m \u001b[0mnp\u001b[0m\u001b[0;34m.\u001b[0m\u001b[0marray\u001b[0m\u001b[0;34m(\u001b[0m\u001b[0ml\u001b[0m\u001b[0;34m)\u001b[0m\u001b[0;34m\u001b[0m\u001b[0;34m\u001b[0m\u001b[0m\n\u001b[1;32m      4\u001b[0m \u001b[0;34m\u001b[0m\u001b[0m\n\u001b[1;32m      5\u001b[0m \u001b[0mz\u001b[0m \u001b[0;34m=\u001b[0m \u001b[0mnp\u001b[0m\u001b[0;34m.\u001b[0m\u001b[0mzeros\u001b[0m\u001b[0;34m(\u001b[0m\u001b[0;34m(\u001b[0m\u001b[0;36m2\u001b[0m\u001b[0;34m,\u001b[0m\u001b[0;36m3\u001b[0m\u001b[0;34m)\u001b[0m\u001b[0;34m)\u001b[0m\u001b[0;34m\u001b[0m\u001b[0;34m\u001b[0m\u001b[0m\n",
            "\u001b[0;31mTypeError\u001b[0m: list indices must be integers or slices, not tuple"
          ]
        }
      ]
    },
    {
      "cell_type": "code",
      "source": [
        "#generates num samples from star to stop(included)\n",
        "arr = np.linspace(0,1,11) # generates 11 numbers from 0 to 1\n",
        "\n",
        "#Generates numbers from start to stop(excluded), with step\n",
        "arr = np.arange(1,7,2) #output [1,3,5]\n",
        "\n",
        "#Generates random data with normal distribution\n",
        "arr = np.random.random((2,3))\n",
        "#arr = np.random.random(mean,std, shape)"
      ],
      "metadata": {
        "colab": {
          "base_uri": "https://localhost:8080/"
        },
        "id": "pF2PqOP34PHJ",
        "outputId": "6257650c-eff0-409a-bd68-4f06a529962d"
      },
      "execution_count": 5,
      "outputs": [
        {
          "output_type": "execute_result",
          "data": {
            "text/plain": [
              "array([[0.98018658, 0.70949758, 0.94251269],\n",
              "       [0.9963771 , 0.06862072, 0.9720447 ]])"
            ]
          },
          "metadata": {},
          "execution_count": 5
        }
      ]
    },
    {
      "cell_type": "markdown",
      "source": [
        "Array attributes"
      ],
      "metadata": {
        "id": "cjFkNoe66STZ"
      }
    },
    {
      "cell_type": "code",
      "source": [
        "x = np.array[[1,2,3],[4,5,6]]\n",
        "\n",
        "#Number of dimensions of the array\n",
        "x.dim\n",
        "\n",
        "#shape\n",
        "x.shape\n",
        "\n",
        "#size = product of the shape values (tot number of elements --> shape(2,3)= 2*3)\n"
      ],
      "metadata": {
        "id": "4bWeAeLV6U8v"
      },
      "execution_count": null,
      "outputs": []
    },
    {
      "cell_type": "markdown",
      "source": [
        "Computation on Numpy:\n",
        "\n",
        "Universal functions (element wise):\n",
        "*   Binary operations (+, -, /, //, **, %, ecc...)\n",
        "*   Unary operations (np.abs(x), np.exp(x), np.sin(x), ecc...) they apply the op separately to each element of the array\n",
        "\n"
      ],
      "metadata": {
        "id": "p7G9-4XQ6wIr"
      }
    },
    {
      "cell_type": "code",
      "source": [],
      "metadata": {
        "id": "fI0iARu66xPk"
      },
      "execution_count": null,
      "outputs": []
    }
  ]
}