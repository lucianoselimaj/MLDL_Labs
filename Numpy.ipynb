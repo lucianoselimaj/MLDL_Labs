{
  "nbformat": 4,
  "nbformat_minor": 0,
  "metadata": {
    "colab": {
      "provenance": [],
      "authorship_tag": "ABX9TyPW9WlQsPdvV3IFMedLWTWN",
      "include_colab_link": true
    },
    "kernelspec": {
      "name": "python3",
      "display_name": "Python 3"
    },
    "language_info": {
      "name": "python"
    }
  },
  "cells": [
    {
      "cell_type": "markdown",
      "metadata": {
        "id": "view-in-github",
        "colab_type": "text"
      },
      "source": [
        "<a href=\"https://colab.research.google.com/github/lucianoselimaj/MLDL_Labs/blob/main/Numpy.ipynb\" target=\"_parent\"><img src=\"https://colab.research.google.com/assets/colab-badge.svg\" alt=\"Open In Colab\"/></a>"
      ]
    },
    {
      "cell_type": "markdown",
      "source": [
        "Numpy: Numerical Python <br>\n",
        "\n",
        "\n",
        "*   Stores and operates on dense data buffers\n",
        "*   Efficient storage and operations"
      ],
      "metadata": {
        "id": "FHtipLmFr1zT"
      }
    },
    {
      "cell_type": "markdown",
      "source": [
        "Array <br>\n",
        "It is the main object provided by Numpy:\n",
        "*   Fixed Type (all elements have the same type)\n",
        "*   Multidimensional\n",
        "\n"
      ],
      "metadata": {
        "id": "ECWSPVvG0PWI"
      }
    },
    {
      "cell_type": "code",
      "execution_count": 3,
      "metadata": {
        "id": "ym7eKfV5nv_I"
      },
      "outputs": [],
      "source": [
        "import numpy as np\n",
        "\n",
        "#vector\n",
        "v = np.array([1,2,3])\n",
        "\n",
        "#multidimensional\n",
        "m = np.array([[1,2,3],[4,5,6]])"
      ]
    },
    {
      "cell_type": "markdown",
      "source": [
        "Vector:\n",
        "*   shape(3,) --> x0 <br>\n",
        "\n",
        "2D Matrix:\n",
        "*   shape(2,3) --> x0,x1<br>\n",
        "\n",
        "3D Array:\n",
        "*   shape(3,2,3) --> x0,x1,x2\n",
        "\n",
        "\n",
        "\n",
        "\n",
        "\n",
        "\n",
        "\n"
      ],
      "metadata": {
        "id": "aU_w41GO28Lr"
      }
    },
    {
      "cell_type": "code",
      "source": [
        "#creation from a list\n",
        "l = [[1,2,3][5,6,7]]\n",
        "a = np.array(l)\n",
        "\n",
        "z = np.zeros((2,3))\n",
        "o = np.ones((3,))\n",
        "f = np.full((2,2),5)"
      ],
      "metadata": {
        "colab": {
          "base_uri": "https://localhost:8080/",
          "height": 287
        },
        "id": "yUtDEjt_31gE",
        "outputId": "67e5e248-16bb-4434-bad8-421312803c35"
      },
      "execution_count": null,
      "outputs": [
        {
          "output_type": "stream",
          "name": "stderr",
          "text": [
            "<>:2: SyntaxWarning: list indices must be integers or slices, not tuple; perhaps you missed a comma?\n",
            "<>:2: SyntaxWarning: list indices must be integers or slices, not tuple; perhaps you missed a comma?\n",
            "<ipython-input-2-a6d723d11e30>:2: SyntaxWarning: list indices must be integers or slices, not tuple; perhaps you missed a comma?\n",
            "  l = [[1,2,3][5,6,7]]\n"
          ]
        },
        {
          "output_type": "error",
          "ename": "TypeError",
          "evalue": "list indices must be integers or slices, not tuple",
          "traceback": [
            "\u001b[0;31m---------------------------------------------------------------------------\u001b[0m",
            "\u001b[0;31mTypeError\u001b[0m                                 Traceback (most recent call last)",
            "\u001b[0;32m<ipython-input-2-a6d723d11e30>\u001b[0m in \u001b[0;36m<cell line: 0>\u001b[0;34m()\u001b[0m\n\u001b[1;32m      1\u001b[0m \u001b[0;31m#creation from a list\u001b[0m\u001b[0;34m\u001b[0m\u001b[0;34m\u001b[0m\u001b[0m\n\u001b[0;32m----> 2\u001b[0;31m \u001b[0ml\u001b[0m \u001b[0;34m=\u001b[0m \u001b[0;34m[\u001b[0m\u001b[0;34m[\u001b[0m\u001b[0;36m1\u001b[0m\u001b[0;34m,\u001b[0m\u001b[0;36m2\u001b[0m\u001b[0;34m,\u001b[0m\u001b[0;36m3\u001b[0m\u001b[0;34m]\u001b[0m\u001b[0;34m[\u001b[0m\u001b[0;36m5\u001b[0m\u001b[0;34m,\u001b[0m\u001b[0;36m6\u001b[0m\u001b[0;34m,\u001b[0m\u001b[0;36m7\u001b[0m\u001b[0;34m]\u001b[0m\u001b[0;34m]\u001b[0m\u001b[0;34m\u001b[0m\u001b[0;34m\u001b[0m\u001b[0m\n\u001b[0m\u001b[1;32m      3\u001b[0m \u001b[0ma\u001b[0m \u001b[0;34m=\u001b[0m \u001b[0mnp\u001b[0m\u001b[0;34m.\u001b[0m\u001b[0marray\u001b[0m\u001b[0;34m(\u001b[0m\u001b[0ml\u001b[0m\u001b[0;34m)\u001b[0m\u001b[0;34m\u001b[0m\u001b[0;34m\u001b[0m\u001b[0m\n\u001b[1;32m      4\u001b[0m \u001b[0;34m\u001b[0m\u001b[0m\n\u001b[1;32m      5\u001b[0m \u001b[0mz\u001b[0m \u001b[0;34m=\u001b[0m \u001b[0mnp\u001b[0m\u001b[0;34m.\u001b[0m\u001b[0mzeros\u001b[0m\u001b[0;34m(\u001b[0m\u001b[0;34m(\u001b[0m\u001b[0;36m2\u001b[0m\u001b[0;34m,\u001b[0m\u001b[0;36m3\u001b[0m\u001b[0;34m)\u001b[0m\u001b[0;34m)\u001b[0m\u001b[0;34m\u001b[0m\u001b[0;34m\u001b[0m\u001b[0m\n",
            "\u001b[0;31mTypeError\u001b[0m: list indices must be integers or slices, not tuple"
          ]
        }
      ]
    },
    {
      "cell_type": "code",
      "source": [
        "#generates num samples from star to stop(included)\n",
        "arr = np.linspace(0,1,11) # generates 11 numbers from 0 to 1\n",
        "\n",
        "#Generates numbers from start to stop(excluded), with step\n",
        "arr = np.arange(1,7,2) #output [1,3,5]\n",
        "\n",
        "#Generates random data with normal distribution\n",
        "arr = np.random.random((2,3))\n",
        "#arr = np.random.random(mean,std, shape)"
      ],
      "metadata": {
        "colab": {
          "base_uri": "https://localhost:8080/"
        },
        "id": "pF2PqOP34PHJ",
        "outputId": "6257650c-eff0-409a-bd68-4f06a529962d"
      },
      "execution_count": null,
      "outputs": [
        {
          "output_type": "execute_result",
          "data": {
            "text/plain": [
              "array([[0.98018658, 0.70949758, 0.94251269],\n",
              "       [0.9963771 , 0.06862072, 0.9720447 ]])"
            ]
          },
          "metadata": {},
          "execution_count": 5
        }
      ]
    },
    {
      "cell_type": "markdown",
      "source": [
        "Array attributes"
      ],
      "metadata": {
        "id": "cjFkNoe66STZ"
      }
    },
    {
      "cell_type": "code",
      "source": [
        "x = np.array[[1,2,3],[4,5,6]]\n",
        "\n",
        "#Number of dimensions of the array\n",
        "x.dim\n",
        "\n",
        "#shape\n",
        "x.shape\n",
        "\n",
        "#size = product of the shape values (tot number of elements --> shape(2,3)= 2*3)\n",
        "x.size"
      ],
      "metadata": {
        "id": "4bWeAeLV6U8v"
      },
      "execution_count": null,
      "outputs": []
    },
    {
      "cell_type": "markdown",
      "source": [
        "Computation on Numpy:\n",
        "\n",
        "Universal functions (element wise):\n",
        "*   Binary operations (+, -, /, //, **, %, ecc...)\n",
        "*   Unary operations (np.abs(x), np.exp(x), np.sin(x), ecc...) they apply the op separately to each element of the arrayù\n",
        "*   Aggregate functions: returns a single value from an array (np.min(x) or x.min(), x.argmin(), x.sum() ecc...)\n",
        "\n",
        "Using axis in Aggregate functions:\n",
        "Vector: we have only one axis --> 0 <br>\n",
        "\n",
        "2D array\n",
        "*   axis 0 --> indicates rows but works for each column\n",
        "*   axis 1 --> indicates columns but works by rows\n",
        "\n",
        "nb: uando passi axis=X, stai dicendo: \"Applica la funzione lungo questo asse → quindi ogni volta che collassi l'asse, agisci sugli elementi perpendicolari\".\n",
        "\n",
        "\n",
        "\n",
        "\n"
      ],
      "metadata": {
        "id": "p7G9-4XQ6wIr"
      }
    },
    {
      "cell_type": "code",
      "source": [
        "#Aggregate Function\n",
        "x=np.array([[1,1],[2,2]])\n",
        "x.sum()\n",
        "\n",
        "# For a 1D array returns the index, for nD array returns the position of the flatted version\n",
        "x.argmin()\n",
        "\n",
        "#Aggregate functions using axis\n",
        "x.argmax(axis=0)"
      ],
      "metadata": {
        "id": "fI0iARu66xPk",
        "outputId": "8cfe86be-e200-4c2a-f9d6-8de3e44c6e31",
        "colab": {
          "base_uri": "https://localhost:8080/"
        }
      },
      "execution_count": 5,
      "outputs": [
        {
          "output_type": "execute_result",
          "data": {
            "text/plain": [
              "array([1, 1])"
            ]
          },
          "metadata": {},
          "execution_count": 5
        }
      ]
    },
    {
      "cell_type": "markdown",
      "source": [
        "# **Sorting**: <br>\n",
        "We have two possible solutions:\n",
        "*   np.sort(x): creates a sorted copy of x\n",
        "*   x.sort(): sorts x inplace (x is modified)\n",
        "\n",
        "NB: by default sorts along the last axis (-1)\n",
        "\n"
      ],
      "metadata": {
        "id": "KH0Ym4mjoksd"
      }
    },
    {
      "cell_type": "code",
      "source": [
        "x = np.array([[2,1,3],[7,9,8]])\n",
        "\n",
        "#copy of x\n",
        "x_2 = np.sort(x)\n",
        "print(x_2)\n",
        "x_2[[0],[0]] = 100\n",
        "print()\n",
        "print(x)\n"
      ],
      "metadata": {
        "id": "EFRJMROLo5tu",
        "outputId": "e4a76519-f52c-4c8b-a807-f4e9ca69a833",
        "colab": {
          "base_uri": "https://localhost:8080/"
        }
      },
      "execution_count": 8,
      "outputs": [
        {
          "output_type": "stream",
          "name": "stdout",
          "text": [
            "[[1 2 3]\n",
            " [7 8 9]]\n",
            "\n",
            "[[2 1 3]\n",
            " [7 9 8]]\n"
          ]
        }
      ]
    },
    {
      "cell_type": "markdown",
      "source": [
        "If we don't want to sort the array but we want only the index of the sorted array we should use **np.argsort()**"
      ],
      "metadata": {
        "id": "jAibrt7Fppg-"
      }
    },
    {
      "cell_type": "code",
      "source": [
        "x = np.array([[2,1,3],[7,9,8]])\n",
        "\n",
        "# by default axis= -1\n",
        "np.argsort(x)"
      ],
      "metadata": {
        "id": "yxZTmSNKp35_",
        "outputId": "b697250b-c6b1-4a26-b516-8c41c50f4a45",
        "colab": {
          "base_uri": "https://localhost:8080/"
        }
      },
      "execution_count": 10,
      "outputs": [
        {
          "output_type": "execute_result",
          "data": {
            "text/plain": [
              "array([[1, 0, 2],\n",
              "       [0, 2, 1]])"
            ]
          },
          "metadata": {},
          "execution_count": 10
        }
      ]
    },
    {
      "cell_type": "markdown",
      "source": [
        "# Broadcasting:\n",
        "pattern designed to perform operations between arrays with different shape <br>\n",
        "Rules of Broadcasting:\n",
        "\n",
        "*   The shape of the array with fewer dimensions is\n",
        "padded with leading ones: x.shape = (2, 3), y.shape = (3) --> y.shape = (1, 3)\n",
        "*   If the shape along a dimension is 1 for one of the arrays\n",
        "and >1 for the other, the array with shape = 1 in that\n",
        "dimension is stretched to match the other array: x.shape = (2, 3), y.shape = (1, 3) --> stretch: y.shape = (2, 3)\n",
        "*  If there is a dimension where both arrays have shape >1\n",
        "and those shapes differ, then broadcasting cannot be\n",
        "performed\n"
      ],
      "metadata": {
        "id": "t8SoPBbuqF5Y"
      }
    },
    {
      "cell_type": "code",
      "source": [
        "x = np.array([1, 2, 3])\n",
        "y = np.array([[11], [12], [13]])\n",
        "\n",
        "z = x + y"
      ],
      "metadata": {
        "id": "caTs4Jkjr8Yn"
      },
      "execution_count": null,
      "outputs": []
    },
    {
      "cell_type": "code",
      "source": [
        "#error x.shape = (3, 2) y.shape = (3,)\n",
        "x = np.array([[1, 2],[3,4],[5,6]])\n",
        "y = np.array([11, 12, 13])\n",
        "\n",
        "z = x + y"
      ],
      "metadata": {
        "id": "mFoj8cLFr_wG"
      },
      "execution_count": null,
      "outputs": []
    },
    {
      "cell_type": "markdown",
      "source": [
        "# Accessing Numpy arrays:"
      ],
      "metadata": {
        "id": "uvqT67qTsqjD"
      }
    },
    {
      "cell_type": "code",
      "source": [
        "#SIMPLE INDEXING\n",
        "x = np.array([[2, 3, 4],[5,6,7]])\n",
        "x[1, 2] # read value (indexing)\n",
        "\n",
        "#returning elements from the end:\n",
        "x[0,-1]"
      ],
      "metadata": {
        "id": "DnAQaeojtsvt"
      },
      "execution_count": null,
      "outputs": []
    },
    {
      "cell_type": "markdown",
      "source": [
        "#SLICING x[start:stop:step]:\n",
        "creates a view of the elements from start(included) to stop(excluded). So if we update the view yield updates on the original array"
      ],
      "metadata": {
        "id": "XFNPD6q3uO13"
      }
    },
    {
      "cell_type": "code",
      "source": [
        "x = np.array([[1,2,3],[4,5,6],[7,8,9]])\n",
        "x[:, 1:] # or x[0:3, 1:3]"
      ],
      "metadata": {
        "id": "cKb4cBOPukIy"
      },
      "execution_count": null,
      "outputs": []
    },
    {
      "cell_type": "markdown",
      "source": [
        "# **Masking** <br>\n",
        "use boolean masks to select elements x[mask]. <br>\n",
        "Remember that masking does not creates views, but copies"
      ],
      "metadata": {
        "id": "9gdBzRAjuv9g"
      }
    },
    {
      "cell_type": "code",
      "source": [
        "x = np.array([1.2, 4.1, 1.5, 4.5])\n",
        "print( x > 4)\n",
        "x[x > 4]"
      ],
      "metadata": {
        "id": "htrBd7BZu4_O",
        "outputId": "18947479-76f6-47d1-dab2-4eea837dee0d",
        "colab": {
          "base_uri": "https://localhost:8080/"
        }
      },
      "execution_count": 13,
      "outputs": [
        {
          "output_type": "stream",
          "name": "stdout",
          "text": [
            "[False  True False  True]\n"
          ]
        },
        {
          "output_type": "execute_result",
          "data": {
            "text/plain": [
              "array([4.1, 4.5])"
            ]
          },
          "metadata": {},
          "execution_count": 13
        }
      ]
    },
    {
      "cell_type": "markdown",
      "source": [
        "# Fancy indexing\n",
        "specify the index of elements to\n",
        "be selected"
      ],
      "metadata": {
        "id": "4cAVY1ugvje5"
      }
    },
    {
      "cell_type": "code",
      "source": [
        "#Vector\n",
        "x = np.array([7.0, 9.0, 6.0, 5.0])\n",
        "x[[1, 3]] #[9.0, 5.0]"
      ],
      "metadata": {
        "id": "2jVJTaPpvrXi"
      },
      "execution_count": null,
      "outputs": []
    },
    {
      "cell_type": "code",
      "source": [
        "#2D array\n",
        "x = np.array([[0.0, 1.0, 2.0], [3.0, 4.0, 5.0],\n",
        "[6.0, 7.0, 8.0]])\n",
        "\n",
        "arr[[0, 2], :]  # Seleziona riga 0 e riga 2\n",
        "arr[[0, 1], [1, 2]] #seleziona elementi specifici (coordinate)\n",
        "\n",
        "\"\"\"\n",
        "Quando fai arr[[a, b], [c, d]], stai selezionando:\n",
        "\n",
        "arr[a, c]\n",
        "\n",
        "arr[b, d]\n",
        "\"\"\"\n"
      ],
      "metadata": {
        "id": "7Nf9stgpvy1d"
      },
      "execution_count": null,
      "outputs": []
    },
    {
      "cell_type": "markdown",
      "source": [
        "# Working with arrays\n",
        "* Array concatenation\n",
        "* Array splitting\n",
        "* Array reshaping\n",
        "* Adding new dimensions"
      ],
      "metadata": {
        "id": "GdESz-F-w89E"
      }
    },
    {
      "cell_type": "code",
      "source": [
        "#Concatenation\n",
        "x = np.array([[1,2,3],[4,5,6]])\n",
        "y = np.array([[11,12,13],[14,15,16]])\n",
        "np.concatenate((x, y)) # Default axis: 0\n",
        "\n",
        "h = np.hstack((x, y)) # along rows (horizontal)\n",
        "v = np.vstack((x, y)) # along columns (vertical)"
      ],
      "metadata": {
        "id": "Sm45IKqDxjK7"
      },
      "execution_count": null,
      "outputs": []
    },
    {
      "cell_type": "markdown",
      "source": [
        "# Splitting arrays (split, hsplit, vsplit)\n",
        "np.split(arr, N, axis=0)\n",
        "* outputs a list of Numpy arrays\n",
        "* If N is integer: divide arr into N equal arrays (along axis), if\n",
        "possible!\n",
        "* if N is a 1d array: specify the entries where the array is\n",
        "split (along axis)"
      ],
      "metadata": {
        "id": "7-J1BLy5x3n9"
      }
    },
    {
      "cell_type": "code",
      "source": [
        "x = np.array([7, 7, 9, 9, 8, 8])\n",
        "np.split(x,[2,4]) # split before element 2 and 4 # same as passing N = 3"
      ],
      "metadata": {
        "id": "yJHYLAV7xyoo"
      },
      "execution_count": null,
      "outputs": []
    },
    {
      "cell_type": "markdown",
      "source": [
        "# Reshaping\n",
        "\n",
        "At most one dimension can be -1 (“unknown”). If present, the size is inferred from :\n",
        "* The source array\n",
        "* The other dimensions"
      ],
      "metadata": {
        "id": "tJPaM6lWyK9Y"
      }
    },
    {
      "cell_type": "code",
      "source": [
        "x = np.arange(6)\n",
        "y = x.reshape((2,3))"
      ],
      "metadata": {
        "id": "vYkZkfxgyOOK"
      },
      "execution_count": null,
      "outputs": []
    },
    {
      "cell_type": "markdown",
      "source": [
        "# Adding new dimensions\n",
        "**np.newaxis** adds a new dimension with shape=1 at\n",
        "the specified position"
      ],
      "metadata": {
        "id": "Szd9l0tByfkt"
      }
    },
    {
      "cell_type": "code",
      "source": [
        "arr = np.array([[1,2,3],[4,5,6]])\n",
        "res = arr[np.newaxis, :, :] # output shape = (1,2,3)\n",
        "print(res)"
      ],
      "metadata": {
        "id": "XTuDyOYaymA9"
      },
      "execution_count": null,
      "outputs": []
    }
  ]
}