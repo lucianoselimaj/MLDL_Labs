{
  "nbformat": 4,
  "nbformat_minor": 0,
  "metadata": {
    "colab": {
      "provenance": [],
      "authorship_tag": "ABX9TyOKvQmFtGN/6W1bfGQqnCsO",
      "include_colab_link": true
    },
    "kernelspec": {
      "name": "python3",
      "display_name": "Python 3"
    },
    "language_info": {
      "name": "python"
    }
  },
  "cells": [
    {
      "cell_type": "markdown",
      "metadata": {
        "id": "view-in-github",
        "colab_type": "text"
      },
      "source": [
        "<a href=\"https://colab.research.google.com/github/lucianoselimaj/MLDL_Labs/blob/main/Python.ipynb\" target=\"_parent\"><img src=\"https://colab.research.google.com/assets/colab-badge.svg\" alt=\"Open In Colab\"/></a>"
      ]
    },
    {
      "cell_type": "markdown",
      "source": [
        "Tuple: immutable sequence of heterogeneos variables\n"
      ],
      "metadata": {
        "id": "j48eLW4wsSXk"
      }
    },
    {
      "cell_type": "code",
      "source": [
        "#Definition\n",
        "t1 = ('turin','milan')\n",
        "t2 = 'italy','france' #Optional parentheses\n",
        "t3 = ('Rome', 2, 25.8)\n",
        "t4 = ('London',)\n",
        "\n",
        "x,y = t1 # unpacking\n",
        "\n",
        "#swapping\n",
        "a = 1\n",
        "b = 2\n",
        "a, b = b, a\n",
        "\n",
        "#Concatenation\n",
        "print(t1 + t2)\n",
        "\n",
        "#Accessing elements\n",
        "val = t1[0]\n",
        "#t1[0] = 2 ---> Error, tuples are imutable\n"
      ],
      "metadata": {
        "colab": {
          "base_uri": "https://localhost:8080/"
        },
        "id": "ANQfxztxsS8Q",
        "outputId": "547d3481-eb8f-45b3-c16f-3f1efa621f49"
      },
      "execution_count": null,
      "outputs": [
        {
          "output_type": "stream",
          "name": "stdout",
          "text": [
            "('turin', 'milan', 'italy', 'france')\n"
          ]
        }
      ]
    },
    {
      "cell_type": "markdown",
      "source": [
        "List: Mutable sequence of heterogeneous elements, where each element is a reference to a python object"
      ],
      "metadata": {
        "id": "Pap-l3-xQXhu"
      }
    },
    {
      "cell_type": "code",
      "source": [
        "#empty list\n",
        "l = []\n",
        "l2 = [1, 'str', 5.6, None]\n",
        "\n",
        "#Adding elements and concatenationg list\n",
        "l1 = [2,4,6]\n",
        "l2 = [1,3,5]\n",
        "l1.append(8) #Append an element to l1\n",
        "l3 = l1 +l2 #Concatenation\n",
        "\n",
        "#Counting the occurrences\n",
        "l1.count(2)\n",
        "#Extend a list\n",
        "l1.extend(l2)\n",
        "#Insert an element at position\n",
        "l1.insert(0, 0)\n",
        "#remove by position\n",
        "l1.pop(0)\n",
        "#Returns position of first occurrence of element\n",
        "l1.index(6)\n",
        "\n",
        "#Accessing elements\n",
        "print(l1[0])\n",
        "l1[0] = 'test' # in this case there isn't an error\n",
        "print(l1[::1]) #start-stop-step, -1 reverse order\n",
        "\n",
        "#Assigning multiple elements\n",
        "l1 = [0,1,2,3,4]\n",
        "l1[0:4] = ['a','b','c']\n",
        "\n",
        "#Removing multiple elements\n",
        "del l1[1:-1]\n",
        "\n",
        "#check if ana element belong to a list\n",
        "l1 = [0,1,2,3,4]\n",
        "if 2 in l1:\n",
        "  print('Already present')\n",
        "\n",
        "#MIN,MAX, SUM\n",
        "min_val = min(l1)\n",
        "max_val = max(l1)\n",
        "sum_val = sum(l1)\n",
        "\n",
        "#Sorting\n",
        "l2 = sorted(l1)\n",
        "l3 = sorted(l1, reverse=True)"
      ],
      "metadata": {
        "colab": {
          "base_uri": "https://localhost:8080/"
        },
        "id": "p9fn9Z80Qr4x",
        "outputId": "fcce7f16-37e2-4efd-ddfc-ccef65cdaf7c"
      },
      "execution_count": null,
      "outputs": [
        {
          "output_type": "stream",
          "name": "stdout",
          "text": [
            "2\n",
            "['test', 4, 6, 8, 1, 3, 5]\n",
            "Already present\n"
          ]
        }
      ]
    },
    {
      "cell_type": "markdown",
      "source": [
        "Set: Unordered collection of unique elements"
      ],
      "metadata": {
        "id": "ULDdERziT76Q"
      }
    },
    {
      "cell_type": "code",
      "source": [
        "s0 = set() #empty set\n",
        "s1 = {1,2,3}\n",
        "s2 = {3,3,b,b}\n",
        "s3 = set([3,3,1,2])\n",
        "print(s2)\n",
        "\n",
        "#Operations\n",
        "union = s1 | s2\n",
        "instersection = s1 & s2\n",
        "difference = s1 - s2\n",
        "\"\"\"\n",
        "subset <=\n",
        "proper subset <\n",
        "superset >=\n",
        "proper superset >\n",
        "\"\"\"\n",
        "\n",
        "#Add remove elements\n",
        "s1 = {1,2,3}\n",
        "s1.add('4')\n",
        "s1.remove(3)"
      ],
      "metadata": {
        "colab": {
          "base_uri": "https://localhost:8080/"
        },
        "id": "4XMmGmy7UuzL",
        "outputId": "f7d7ef3a-50c6-4fe3-a8dc-7537ac9fe7f5"
      },
      "execution_count": null,
      "outputs": [
        {
          "output_type": "stream",
          "name": "stdout",
          "text": [
            "{1, 3}\n"
          ]
        }
      ]
    },
    {
      "cell_type": "markdown",
      "source": [
        "Dictionary: collection of key-value pairs. It allows fast access of elements by key(which are unique)"
      ],
      "metadata": {
        "id": "QrsIX7nKY6ui"
      }
    },
    {
      "cell_type": "code",
      "source": [
        "d1 = {'Name': 'Jhon', 'Age': 25}\n",
        "d0 = {} #Empty dictionary\n",
        "\n",
        "\"\"\"\n",
        "The key must be hashable:\n",
        "-int, float, bool, string, tuple\n",
        "d1 = {('a','b') : 120, ('c','d','e') : 1000}\n",
        "\"\"\"\n",
        "\n",
        "#Element access\n",
        "images = {10: 'img1', 20 : 'img2'}\n",
        "t = images[10] #using the key\n",
        "#t = image[8] #error\n",
        "t = images.get(8, 'error, index not fuond')\n",
        "print(t)\n",
        "\n",
        "#Keys and indexes\n",
        "keys = list(images.keys())\n",
        "values = list(images.values())\n",
        "\n",
        "#Adding/updating values\n",
        "occur = {'Car' : 33, 'Truck' : 55}\n",
        "occur['Car'] = 500 #update\n",
        "occur['new'] = 100\n",
        "\n",
        "#deleting a key\n",
        "del occur['Truck']\n",
        "\n",
        "#Check in\n",
        "if 'Truck' in occur:\n",
        "  print('truck is already present')\n",
        "\n",
        "#Iterating keys and values\n",
        "basket = {'Cola' : 0.99, 'Apples' : 1.5, 'Salt' : 0.4}\n",
        "price = 0\n",
        "\n",
        "for k, v in basket.items():\n",
        "  price += v\n",
        "  print(f'{k}: {price}')\n"
      ],
      "metadata": {
        "colab": {
          "base_uri": "https://localhost:8080/"
        },
        "id": "LLlPhdBpZHxK",
        "outputId": "abd8c099-dbcd-4414-b29b-a2e1df16344e"
      },
      "execution_count": null,
      "outputs": [
        {
          "output_type": "stream",
          "name": "stdout",
          "text": [
            "error, index not fuond\n",
            "Cola: 0.99\n",
            "Apples: 2.49\n",
            "Salt: 2.89\n"
          ]
        }
      ]
    },
    {
      "cell_type": "markdown",
      "source": [
        "Shallow and Deep copy"
      ],
      "metadata": {
        "id": "QqNx-xd0fhr_"
      }
    },
    {
      "cell_type": "code",
      "source": [
        "parent = [ [ 1, 2 ], ('a', 'b') ]\n",
        "\n",
        "#Shallow, copy the parent object, keep references to children ---> parent.copy()\n",
        "temperatures = {'Turin':[10,12,10], 'Milan':[15,16,16]}\n",
        "temp2 = temperatures.copy()\n",
        "temp2['Turin'].append(13) # Edit child node\n",
        "temp2['Rome'] = [10, 11, 10] # Edit parent node\n",
        "print(temperatures)\n",
        "print(temp2)\n",
        "print()\n",
        "#Deep, recursively copies all children nodes of parent object\n",
        "import copy\n",
        "temperatures = {'Turin':[10,12,10], 'Milan':[15,16,16]}\n",
        "temp2 = copy.deepcopy(temperatures)\n",
        "temp2['Turin'].append(13) # Edit child node\n",
        "temp2['Rome'] = [10, 11, 10] # Edit parent node\n",
        "print(temperatures)\n",
        "print(temp2)"
      ],
      "metadata": {
        "colab": {
          "base_uri": "https://localhost:8080/"
        },
        "id": "WKkai0zrfn1a",
        "outputId": "77b8c99e-f2a4-4fcf-e831-054d298298e5"
      },
      "execution_count": null,
      "outputs": [
        {
          "output_type": "stream",
          "name": "stdout",
          "text": [
            "{'Turin': [10, 12, 10, 13], 'Milan': [15, 16, 16]}\n",
            "{'Turin': [10, 12, 10, 13], 'Milan': [15, 16, 16], 'Rome': [10, 11, 10]}\n",
            "\n",
            "{'Turin': [10, 12, 10], 'Milan': [15, 16, 16]}\n",
            "{'Turin': [10, 12, 10, 13], 'Milan': [15, 16, 16], 'Rome': [10, 11, 10]}\n"
          ]
        }
      ]
    },
    {
      "cell_type": "markdown",
      "source": [
        "<pre>IF-ELSE structure: <br>\n",
        "if condition:<br>\n",
        "  //code<br>\n",
        "elif condition:<br>\n",
        "  //code<br>\n",
        "else:<br>\n",
        "  //code<br>"
      ],
      "metadata": {
        "id": "LV2slpwUhQ49"
      }
    },
    {
      "cell_type": "markdown",
      "source": [
        "Iterationg for a fixed number of times"
      ],
      "metadata": {
        "id": "BSybSebpiZ2Y"
      }
    },
    {
      "cell_type": "code",
      "source": [
        "#starting index included\n",
        "for i in range(5,8):\n",
        "  print(f\"The value of i is {i}\")"
      ],
      "metadata": {
        "colab": {
          "base_uri": "https://localhost:8080/"
        },
        "id": "X93Q1nRrhQl8",
        "outputId": "f4df5995-f1f2-4d6c-c487-08be8868c8f9"
      },
      "execution_count": null,
      "outputs": [
        {
          "output_type": "stream",
          "name": "stdout",
          "text": [
            "The value of i is 5\n",
            "The value of i is 6\n",
            "The value of i is 7\n"
          ]
        }
      ]
    },
    {
      "cell_type": "markdown",
      "source": [
        "Enumerationg: Associate elementsn and their indexes"
      ],
      "metadata": {
        "id": "p9zfDfGXixip"
      }
    },
    {
      "cell_type": "code",
      "source": [
        "my_list = ['a', 'b', 'c']\n",
        "for i, element in enumerate(my_list):\n",
        "  print(f\"The value of my_list[{i}] is {element}\")"
      ],
      "metadata": {
        "id": "ZM4OrMnti22u"
      },
      "execution_count": null,
      "outputs": []
    },
    {
      "cell_type": "markdown",
      "source": [
        "Zip: iterationg multipe lists"
      ],
      "metadata": {
        "id": "2ttQZRIXjzBV"
      }
    },
    {
      "cell_type": "code",
      "source": [
        "my_list1 = ['a', 'b', 'c']\n",
        "my_list2 = ['A', 'B', 'C']\n",
        "\n",
        "for el1, el2 in zip(my_list1, my_list2):\n",
        "  print(f\"El1: {el1}, el2: {el2}\")"
      ],
      "metadata": {
        "id": "qx3FPva-ldGJ"
      },
      "execution_count": null,
      "outputs": []
    },
    {
      "cell_type": "markdown",
      "source": [
        "Break/Continue"
      ],
      "metadata": {
        "id": "rLau1pKal8CO"
      }
    },
    {
      "cell_type": "code",
      "source": [
        "with open(\"./path\") as f:\n",
        "  for line in f:\n",
        "    if line == 'skip':\n",
        "      continue\n",
        "    elif line == 'end':\n",
        "      break\n",
        "    print(line)"
      ],
      "metadata": {
        "id": "Z7dp1nu3mAP4"
      },
      "execution_count": null,
      "outputs": []
    },
    {
      "cell_type": "markdown",
      "source": [
        "Functions"
      ],
      "metadata": {
        "id": "rXV1Bk1nmXER"
      }
    },
    {
      "cell_type": "code",
      "source": [
        "def function_name(param1, param2):\n",
        "  #//code\n",
        "  return()"
      ],
      "metadata": {
        "id": "9kKcMT1cmY1f"
      },
      "execution_count": null,
      "outputs": []
    },
    {
      "cell_type": "code",
      "source": [
        "def add_sub(x, y):\n",
        "  #functions can return tuples\n",
        "  return x+y, x-y\n",
        "\n",
        "summ, diff = add_sub(5, 3)\n",
        "print(f\"Sum is {summ}, difference is {diff}.\")"
      ],
      "metadata": {
        "id": "FfSDvPu9m13K"
      },
      "execution_count": null,
      "outputs": []
    },
    {
      "cell_type": "code",
      "source": [
        "def func(a, b, c='defC', d='defD'):\n",
        "  print(f\"{a}, {b}, {c}, {d}\")\n",
        "\n",
        "func(1, 2) # use default for c, d\n",
        "func(1, 2, 'a') # use default for d, not for c\n",
        "func(1, 2, d='b') # passing keyword argument\n",
        "func(b=2, a=1, d='b') # keyword order does not matter\n",
        "func(1, c='a') # Error: b not specified"
      ],
      "metadata": {
        "id": "aae8bFD-nEwc"
      },
      "execution_count": null,
      "outputs": []
    },
    {
      "cell_type": "markdown",
      "source": [
        "MAP & FILTERS:\n",
        "\n",
        "\n",
        "*   Filter: given a sequence of values, keep some and discard the rest:\n",
        "```\n",
        "# filter(filter_function, sequence)\n",
        "```\n",
        "*   Map: given a sequence of values, map each element to a new one:\n",
        "```\n",
        "# map(map_function, sequence)\n",
        "```\n",
        "NB: map and filter returns an iterator so we have to cast the rresult into a list\n",
        "\n",
        "\n"
      ],
      "metadata": {
        "id": "VV4uObxgyBLl"
      }
    },
    {
      "cell_type": "code",
      "source": [
        "#Filter pattern\n",
        "def is_positive(number):\n",
        "  return number >= 0\n",
        "\n",
        "numbers = [2,4,-1,7,0]\n",
        "positive = list(filter(is_positive,numbers))\n",
        "print(positive)"
      ],
      "metadata": {
        "id": "Q3T1y9BGyvxj",
        "outputId": "16de7851-0251-44ae-def3-7b07a7ebd099",
        "colab": {
          "base_uri": "https://localhost:8080/"
        }
      },
      "execution_count": 2,
      "outputs": [
        {
          "output_type": "stream",
          "name": "stdout",
          "text": [
            "[2, 4, 7, 0]\n"
          ]
        }
      ]
    },
    {
      "cell_type": "code",
      "source": [
        "#map\n",
        "def square(numbers):\n",
        "  return numbers**2\n",
        "\n",
        "numbers = [2,4,-1,7,0]\n",
        "squared = list(map(square,numbers))\n",
        "print(squared)"
      ],
      "metadata": {
        "id": "o7m2xiG8zudc",
        "outputId": "437f56c8-d9fe-4b24-f743-e6ec537fdedf",
        "colab": {
          "base_uri": "https://localhost:8080/"
        }
      },
      "execution_count": 4,
      "outputs": [
        {
          "output_type": "stream",
          "name": "stdout",
          "text": [
            "[4, 16, 1, 49, 0]\n"
          ]
        }
      ]
    },
    {
      "cell_type": "markdown",
      "source": [
        "Lambda functions"
      ],
      "metadata": {
        "id": "Wk2cx77M1Dae"
      }
    },
    {
      "cell_type": "code",
      "source": [
        "numbers = [1, -8, 5, -2, 5]\n",
        "\n",
        "positives = list(filter(lambda x: x>=0, numbers))\n",
        "squares = list(map(lambda x: x**2, numbers))\n",
        "print(positives)\n",
        "print()\n",
        "print(squared)"
      ],
      "metadata": {
        "id": "hcALZeK31ISU",
        "outputId": "51e1a62a-7147-4194-f88c-91dac141182d",
        "colab": {
          "base_uri": "https://localhost:8080/"
        }
      },
      "execution_count": 6,
      "outputs": [
        {
          "output_type": "stream",
          "name": "stdout",
          "text": [
            "[1, 5, 5]\n",
            "\n",
            "[4, 16, 1, 49, 0]\n"
          ]
        }
      ]
    },
    {
      "cell_type": "code",
      "source": [
        "#conditional lambda functions\n",
        "numbers = [1, -1, 2, -2, 1]\n",
        "\n",
        "sign = list(map(lambda x: '-' if x<=0 else '+',numbers))\n",
        "print(sign)\n",
        "print()\n",
        "\n",
        "abs_values = list(map(lambda x: x if x>0 else -x, numbers))\n",
        "print(abs_values)"
      ],
      "metadata": {
        "id": "_TlyWvKj16YQ",
        "outputId": "0df2c0a4-0524-499b-e779-c5387f105f6a",
        "colab": {
          "base_uri": "https://localhost:8080/"
        }
      },
      "execution_count": 8,
      "outputs": [
        {
          "output_type": "stream",
          "name": "stdout",
          "text": [
            "['+', '-', '+', '-', '+']\n",
            "\n",
            "[1, 1, 2, 2, 1]\n"
          ]
        }
      ]
    },
    {
      "cell_type": "markdown",
      "source": [
        "Sort/Min/Max by dictionary key"
      ],
      "metadata": {
        "id": "R9fbYkls2tmM"
      }
    },
    {
      "cell_type": "code",
      "source": [
        "records = [{'name': 'v1', 'val': 5}, {'name': 'v2', 'val': 1}, {'name': 'v3', 'val': 6}]\n",
        "\n",
        "min_val = min(records, key=lambda r: r['val'])\n",
        "sorted_records = sorted(records, key=lambda r: r['val'], reverse=True)\n",
        "\n",
        "print(f'Min : {min_val}')\n",
        "print()\n",
        "print(f\"Sorted :  {sorted_records}\")\n"
      ],
      "metadata": {
        "id": "pbyaa1iH2p7N",
        "outputId": "2d3ee059-f9da-4757-cbc2-f238e839de2e",
        "colab": {
          "base_uri": "https://localhost:8080/"
        }
      },
      "execution_count": 10,
      "outputs": [
        {
          "output_type": "stream",
          "name": "stdout",
          "text": [
            "Min : {'name': 'v2', 'val': 1}\n",
            "\n",
            "Sorted :  [{'name': 'v3', 'val': 6}, {'name': 'v1', 'val': 5}, {'name': 'v2', 'val': 1}]\n"
          ]
        }
      ]
    },
    {
      "cell_type": "markdown",
      "source": [
        "List comprehensions: allows creating lists from other iterables:\n",
        "\n",
        "```\n",
        "#res_list = [f(el) for el in iterable]\n",
        "```\n",
        "where: <br>\n",
        "f(el) --> is the transformation\n",
        "\n"
      ],
      "metadata": {
        "id": "gILAYCF9-nLd"
      }
    },
    {
      "cell_type": "code",
      "source": [
        "dct = {'a': 10, 'b': 20, 'c': 30}\n",
        "\n",
        "my_list = [el.upper() for el in dct.keys()]\n",
        "print(my_list)\n",
        "\n",
        "\n",
        "#with conditions\n",
        "my_list2 = [el**2 for el in dct.values() if el >10]\n",
        "print(my_list2)"
      ],
      "metadata": {
        "id": "w2nKcxpZ_Q1K",
        "outputId": "5899815b-1d41-4b52-e3a2-a96c7daa1b84",
        "colab": {
          "base_uri": "https://localhost:8080/"
        }
      },
      "execution_count": 15,
      "outputs": [
        {
          "output_type": "stream",
          "name": "stdout",
          "text": [
            "['A', 'B', 'C']\n",
            "[400, 900]\n"
          ]
        }
      ]
    },
    {
      "cell_type": "markdown",
      "source": [
        "Dictionary comprehensions"
      ],
      "metadata": {
        "id": "JuiY0wEsAW5o"
      }
    },
    {
      "cell_type": "code",
      "source": [
        "keys = ['a','b','c']\n",
        "values = [-1, 4, -2]\n",
        "\n",
        "my_dict = {k:v for k,v in zip(keys,values)}\n",
        "print(my_dict)"
      ],
      "metadata": {
        "id": "PvCU-YvxASwC",
        "outputId": "9ab858ec-fa1a-4be9-a92a-8955d769d99d",
        "colab": {
          "base_uri": "https://localhost:8080/"
        }
      },
      "execution_count": 16,
      "outputs": [
        {
          "output_type": "stream",
          "name": "stdout",
          "text": [
            "{'a': -1, 'b': 4, 'c': -2}\n"
          ]
        }
      ]
    },
    {
      "cell_type": "markdown",
      "source": [
        "Set comprehensions"
      ],
      "metadata": {
        "id": "kKZla6fgA9vw"
      }
    },
    {
      "cell_type": "code",
      "source": [
        "s = {v**2 for v in [1,2,3,4,5]}\n",
        "print(s)"
      ],
      "metadata": {
        "id": "0fJhnF8WBH9b",
        "outputId": "61c365cf-897d-4f6d-d93d-e1eb20a50d59",
        "colab": {
          "base_uri": "https://localhost:8080/"
        }
      },
      "execution_count": 17,
      "outputs": [
        {
          "output_type": "stream",
          "name": "stdout",
          "text": [
            "{1, 4, 9, 16, 25}\n"
          ]
        }
      ]
    },
    {
      "cell_type": "markdown",
      "source": [
        "# **Classes**:\n",
        "A class is a model that specifies a collection of:\n",
        "\n",
        "\n",
        "*   Attributes (=Variables)\n",
        "*   Methods (that interacts with variables)\n",
        "*  Constructor (initializes the object)\n",
        "\n",
        "An obj is an **instance** of a specific class\n"
      ],
      "metadata": {
        "id": "ShScvWJPBTQI"
      }
    },
    {
      "cell_type": "code",
      "source": [
        "class Dog:\n",
        "  #constructor, it runs automatically every time we create a new object from the class\n",
        "  def __init__(self, name, age): #self is a reference to the current object\n",
        "    self.name = name\n",
        "    self.age = age\n",
        "\n",
        "\n",
        "  def bark(self):\n",
        "    print(f\"{self.name} says: Woof!\")"
      ],
      "metadata": {
        "id": "dvdlOKm0BaYF",
        "outputId": "0b6bfac6-c8ab-4e09-c69f-046fe2bb5c64",
        "colab": {
          "base_uri": "https://localhost:8080/"
        }
      },
      "execution_count": 18,
      "outputs": [
        {
          "output_type": "stream",
          "name": "stdout",
          "text": [
            "3\n"
          ]
        }
      ]
    },
    {
      "cell_type": "markdown",
      "source": [
        "Private Attributes"
      ],
      "metadata": {
        "id": "woYUfLi6EvXA"
      }
    },
    {
      "cell_type": "code",
      "source": [
        "class Triangle:\n",
        "  def __init__(self, a, b, c):\n",
        "    self.a, self.b, self.c = a,b,c\n",
        "    self.__perimeter = a+b+c\n",
        "  def get_perimeter(self):\n",
        "    return self.__perimeter\n",
        "\n",
        "\n",
        "tr = Triangle(2,4,3)\n",
        "print(tr.get_perimeter())\n",
        "print(tr.__perimeter)#error private attribute"
      ],
      "metadata": {
        "id": "9yRI_3YjF-_2",
        "outputId": "365d002d-7737-4ed9-a41b-eb833aa3c19d",
        "colab": {
          "base_uri": "https://localhost:8080/",
          "height": 198
        }
      },
      "execution_count": 20,
      "outputs": [
        {
          "output_type": "stream",
          "name": "stdout",
          "text": [
            "9\n"
          ]
        },
        {
          "output_type": "error",
          "ename": "AttributeError",
          "evalue": "'Triangle' object has no attribute '__perimeter'",
          "traceback": [
            "\u001b[0;31m---------------------------------------------------------------------------\u001b[0m",
            "\u001b[0;31mAttributeError\u001b[0m                            Traceback (most recent call last)",
            "\u001b[0;32m<ipython-input-20-1ea6d44cfe7f>\u001b[0m in \u001b[0;36m<cell line: 0>\u001b[0;34m()\u001b[0m\n\u001b[1;32m      9\u001b[0m \u001b[0mtr\u001b[0m \u001b[0;34m=\u001b[0m \u001b[0mTriangle\u001b[0m\u001b[0;34m(\u001b[0m\u001b[0;36m2\u001b[0m\u001b[0;34m,\u001b[0m\u001b[0;36m4\u001b[0m\u001b[0;34m,\u001b[0m\u001b[0;36m3\u001b[0m\u001b[0;34m)\u001b[0m\u001b[0;34m\u001b[0m\u001b[0;34m\u001b[0m\u001b[0m\n\u001b[1;32m     10\u001b[0m \u001b[0mprint\u001b[0m\u001b[0;34m(\u001b[0m\u001b[0mtr\u001b[0m\u001b[0;34m.\u001b[0m\u001b[0mget_perimeter\u001b[0m\u001b[0;34m(\u001b[0m\u001b[0;34m)\u001b[0m\u001b[0;34m)\u001b[0m\u001b[0;34m\u001b[0m\u001b[0;34m\u001b[0m\u001b[0m\n\u001b[0;32m---> 11\u001b[0;31m \u001b[0mprint\u001b[0m\u001b[0;34m(\u001b[0m\u001b[0mtr\u001b[0m\u001b[0;34m.\u001b[0m\u001b[0m__perimeter\u001b[0m\u001b[0;34m)\u001b[0m\u001b[0;34m\u001b[0m\u001b[0;34m\u001b[0m\u001b[0m\n\u001b[0m",
            "\u001b[0;31mAttributeError\u001b[0m: 'Triangle' object has no attribute '__perimeter'"
          ]
        }
      ]
    },
    {
      "cell_type": "markdown",
      "source": [
        "Exceptions: track errors during program execution"
      ],
      "metadata": {
        "id": "MrZDwNeVGt6l"
      }
    },
    {
      "cell_type": "code",
      "source": [
        "try:\n",
        "  #code\n",
        "  res = 'str'\n",
        "  res += 2\n",
        "except:\n",
        "  print('error log')\n",
        "\n",
        "\n",
        "#customize the exception\n",
        "try:\n",
        "  #code\n",
        "  res = 2/0\n",
        "except ZeroDivisionError:\n",
        "  print('error log')\n",
        "finally:\n",
        "  print('program closed')\n"
      ],
      "metadata": {
        "id": "0H9UdGNzGzdo",
        "outputId": "794240ca-c4f8-4528-b554-602dcb9f743c",
        "colab": {
          "base_uri": "https://localhost:8080/"
        }
      },
      "execution_count": 22,
      "outputs": [
        {
          "output_type": "stream",
          "name": "stdout",
          "text": [
            "error log\n"
          ]
        }
      ]
    }
  ]
}