{
  "nbformat": 4,
  "nbformat_minor": 0,
  "metadata": {
    "colab": {
      "provenance": [],
      "authorship_tag": "ABX9TyN1deYWPDAhX+WHNlHm+DYg",
      "include_colab_link": true
    },
    "kernelspec": {
      "name": "python3",
      "display_name": "Python 3"
    },
    "language_info": {
      "name": "python"
    }
  },
  "cells": [
    {
      "cell_type": "markdown",
      "metadata": {
        "id": "view-in-github",
        "colab_type": "text"
      },
      "source": [
        "<a href=\"https://colab.research.google.com/github/lucianoselimaj/MLDL_Labs/blob/main/Pandas.ipynb\" target=\"_parent\"><img src=\"https://colab.research.google.com/assets/colab-badge.svg\" alt=\"Open In Colab\"/></a>"
      ]
    },
    {
      "cell_type": "markdown",
      "source": [
        "# Series\n",
        "it is a one dimensional array composed by a sequence of homogeneous elements. It has an index associated with each element"
      ],
      "metadata": {
        "id": "Adt86BfGHW26"
      }
    },
    {
      "cell_type": "code",
      "source": [
        "import pandas as pd"
      ],
      "metadata": {
        "id": "pybC9QxMHTEY"
      },
      "execution_count": 2,
      "outputs": []
    },
    {
      "cell_type": "code",
      "source": [
        "#creating a Series using a list or an Array\n",
        "s = pd.Series([1,2,3,4]) # indexes are utomatically assigned\n",
        "s = pd.Series([1,2,3,4], index=['a','b','c','d'])\n",
        "\n",
        "print(s)"
      ],
      "metadata": {
        "colab": {
          "base_uri": "https://localhost:8080/"
        },
        "id": "x29vHvwNH5HB",
        "outputId": "e65756ba-0d24-43b5-d728-77d768d49da7"
      },
      "execution_count": 5,
      "outputs": [
        {
          "output_type": "stream",
          "name": "stdout",
          "text": [
            "a    1\n",
            "b    2\n",
            "c    3\n",
            "d    4\n",
            "dtype: int64\n"
          ]
        }
      ]
    },
    {
      "cell_type": "code",
      "source": [
        "#Values and indexes\n",
        "print(s.index)\n",
        "print()\n",
        "print(s.values)"
      ],
      "metadata": {
        "colab": {
          "base_uri": "https://localhost:8080/"
        },
        "id": "nIuRMprGIyEd",
        "outputId": "8fed1bc7-b710-4940-b1cc-187a94b5cb0c"
      },
      "execution_count": 6,
      "outputs": [
        {
          "output_type": "stream",
          "name": "stdout",
          "text": [
            "Index(['a', 'b', 'c', 'd'], dtype='object')\n",
            "\n",
            "[1 2 3 4]\n"
          ]
        }
      ]
    },
    {
      "cell_type": "markdown",
      "source": [
        "**Accessing Series Elements: **\n",
        "\n",
        "*   Explicitly --> using .loc['index_value']\n",
        "*   Implicitly --> using .iloc[0] (index number like arrays)\n",
        "\n",
        "\n"
      ],
      "metadata": {
        "id": "VhsHhpI5I-Nq"
      }
    },
    {
      "cell_type": "code",
      "source": [
        "s = pd.Series([10,20,30,40], index=['a','b','c','d'])\n",
        "\n",
        "#EXPLIT index\n",
        "print(s.loc['a'])\n",
        "\n",
        "#IMPLICIT\n",
        "print(s.iloc[0])"
      ],
      "metadata": {
        "colab": {
          "base_uri": "https://localhost:8080/"
        },
        "id": "XyuP86KfJBRw",
        "outputId": "0e7a5e57-c77e-45fb-91de-5a546a30ea35"
      },
      "execution_count": 8,
      "outputs": [
        {
          "output_type": "stream",
          "name": "stdout",
          "text": [
            "10\n",
            "10\n"
          ]
        }
      ]
    },
    {
      "cell_type": "markdown",
      "source": [
        "SLICING:\n",
        "\n",
        "* Explicitly --> using .loc['start_value_indx':'stop_value_ind'], both are included\n",
        "* Implicitly --> using .iloc[0:n] (index number like arrays), but only start is included\n",
        "\n",
        "\n"
      ],
      "metadata": {
        "id": "mfgMlBMjJrJf"
      }
    },
    {
      "cell_type": "code",
      "source": [
        "s = pd.Series([10,20,30,40], index=['a','b','c','d'])\n",
        "\n",
        "print(s['a':'c'])\n",
        "\n",
        "print(s[0:2])"
      ],
      "metadata": {
        "colab": {
          "base_uri": "https://localhost:8080/"
        },
        "id": "AURwdREIJkNa",
        "outputId": "e0428936-86ec-48de-f91d-dcfc2312453b"
      },
      "execution_count": 10,
      "outputs": [
        {
          "output_type": "stream",
          "name": "stdout",
          "text": [
            "a    10\n",
            "b    20\n",
            "c    30\n",
            "dtype: int64\n",
            "a    10\n",
            "b    20\n",
            "dtype: int64\n"
          ]
        }
      ]
    },
    {
      "cell_type": "code",
      "source": [
        "#MASKING\n",
        "s = pd.Series([10,20,30,40], index=['a','b','c','d'])\n",
        "\n",
        "mask = s > 20\n",
        "print(s[mask])"
      ],
      "metadata": {
        "colab": {
          "base_uri": "https://localhost:8080/"
        },
        "id": "Gqp1kYDJKeqV",
        "outputId": "188941fc-7b9d-4f4b-cd91-ba35c822246a"
      },
      "execution_count": 11,
      "outputs": [
        {
          "output_type": "stream",
          "name": "stdout",
          "text": [
            "c    30\n",
            "d    40\n",
            "dtype: int64\n"
          ]
        }
      ]
    },
    {
      "cell_type": "markdown",
      "source": [
        "**FANCY INDEXING:** <br>\n",
        "allows us to select multiple elements from a series, we can use both .loc[] and .iloc[]"
      ],
      "metadata": {
        "id": "79ZKJy5KK4bN"
      }
    },
    {
      "cell_type": "code",
      "source": [
        "#FANCY INDEXING\n",
        "s = pd.Series([10,20,30,40], index=['a','b','c','d'])\n",
        "\n",
        "#Explicit\n",
        "print(s.loc[['a','c']])\n",
        "\n",
        "#Implicit\n",
        "print(s.iloc[[0,2]])"
      ],
      "metadata": {
        "colab": {
          "base_uri": "https://localhost:8080/"
        },
        "id": "O9fJ0ArkK1Zp",
        "outputId": "b653e5b6-a06c-42c9-f996-91a991a95df9"
      },
      "execution_count": 13,
      "outputs": [
        {
          "output_type": "stream",
          "name": "stdout",
          "text": [
            "a    10\n",
            "c    30\n",
            "dtype: int64\n",
            "a    10\n",
            "c    30\n",
            "dtype: int64\n"
          ]
        }
      ]
    },
    {
      "cell_type": "markdown",
      "source": [
        "# **DataFrame**\n",
        "it is a 2-dim table with rows and colunms, like an excel spredsheet.\n",
        "<br>\n",
        "# NB: each column in the dataframe is a Series"
      ],
      "metadata": {
        "id": "XAYzgvY7H6jZ"
      }
    },
    {
      "cell_type": "code",
      "source": [
        "#Creating a DataFrame using a dictionary list\n",
        "\n",
        "data = {\n",
        "    'Year': [2020, 2020, 2021, 2021],\n",
        "    'Quarter': ['Q1', 'Q2', 'Q1', 'Q2'],\n",
        "    'Revenue': [100, 150, 200, 250],\n",
        "}\n",
        "\n",
        "#without specifying and index (auto progressive number)\n",
        "df = pd.DataFrame(data)\n",
        "#specifying indexes\n",
        "df2 = pd.DataFrame(data, index=['00', '01', '02', '03'])\n",
        "\n",
        "print(df)\n",
        "print()\n",
        "print(df2)"
      ],
      "metadata": {
        "colab": {
          "base_uri": "https://localhost:8080/"
        },
        "id": "Pbjd-QCNLm_R",
        "outputId": "dbd499ff-cf21-4dd5-c5ea-9960a36d8235"
      },
      "execution_count": 18,
      "outputs": [
        {
          "output_type": "stream",
          "name": "stdout",
          "text": [
            "   Year Quarter  Revenue\n",
            "0  2020      Q1      100\n",
            "1  2020      Q2      150\n",
            "2  2021      Q1      200\n",
            "3  2021      Q2      250\n",
            "\n",
            "    Year Quarter  Revenue\n",
            "00  2020      Q1      100\n",
            "01  2020      Q2      150\n",
            "02  2021      Q1      200\n",
            "03  2021      Q2      250\n"
          ]
        }
      ]
    },
    {
      "cell_type": "markdown",
      "source": [
        "**CSV file loading** pd.read_csv('file.csv')"
      ],
      "metadata": {
        "id": "IImkXpDePK9R"
      }
    },
    {
      "cell_type": "code",
      "source": [
        "df = pd.read_csv('filename.csv')\n",
        "\n",
        "#we can also specify, the separator, if we want to skip some rows, and how to handle NaN values\n",
        "df = pd.read_csv('filename.csv',\n",
        "                 sep=',',\n",
        "                 skiprows=1,\n",
        "                 na_values=['no_info', 'x'] # those values are setted as NaN\n",
        ")"
      ],
      "metadata": {
        "id": "vBZt1n5NMvyh"
      },
      "execution_count": null,
      "outputs": []
    },
    {
      "cell_type": "markdown",
      "source": [
        "**JSON file Loading** pd.read_json('filename.json')"
      ],
      "metadata": {
        "id": "P3HdKcsmPzb5"
      }
    },
    {
      "cell_type": "code",
      "source": [
        "df = pd.read_json('filejson.json')\n",
        "\n",
        "#we can also specify orient, which specifies the json string format\n",
        "df = pd.read_json('filejson.json', orient='records')"
      ],
      "metadata": {
        "id": "SxkpGFjHP6im"
      },
      "execution_count": null,
      "outputs": []
    },
    {
      "cell_type": "markdown",
      "source": [
        "# Data Selection and Indexing"
      ],
      "metadata": {
        "id": "1vMtL53rVsHj"
      }
    },
    {
      "cell_type": "code",
      "source": [
        "data = {\n",
        "    'Year': [2020, 2020, 2021, 2021],\n",
        "    'Quarter': ['Q1', 'Q2', 'Q1', 'Q2'],\n",
        "    'Revenue': [100, 150, 200, 250],\n",
        "}\n",
        "\n",
        "#COLUMN names\n",
        "print(df.columns)\n",
        "\n",
        "#indexes\n",
        "print(df.index)\n",
        "\n",
        "#values\n",
        "print(df.values)"
      ],
      "metadata": {
        "colab": {
          "base_uri": "https://localhost:8080/"
        },
        "id": "O93FQOweV-ie",
        "outputId": "bd3f1860-0d5e-4d90-f9d3-c914f3daea8f"
      },
      "execution_count": 21,
      "outputs": [
        {
          "output_type": "stream",
          "name": "stdout",
          "text": [
            "Index(['Year', 'Quarter', 'Revenue'], dtype='object')\n",
            "RangeIndex(start=0, stop=4, step=1)\n",
            "[[2020 'Q1' 100]\n",
            " [2020 'Q2' 150]\n",
            " [2021 'Q1' 200]\n",
            " [2021 'Q2' 250]]\n"
          ]
        }
      ]
    },
    {
      "cell_type": "code",
      "source": [
        "#How to select ROWS and COLUMNS\n",
        "data = {\n",
        "    'Year': [2020, 2020, 2021, 2021],\n",
        "    'Quarter': ['Q1', 'Q2', 'Q1', 'Q2'],\n",
        "    'Revenue': [100, 150, 200, 250],\n",
        "}\n",
        "\n",
        "df = pd.DataFrame(data, index=['00', '01', '02', '03'])\n",
        "\n",
        "#select a column\n",
        "print(df['Year'])\n",
        "print(df[['Year', 'Revenue']]) # multiple columns\n",
        "\n",
        "#Select rows, in this case we use .loc[] and .iloc[]\n",
        "print(df.loc['00'])\n",
        "print(df.loc[['00','02']])\n",
        "\n",
        "print(df.iloc[0])\n",
        "print(df.iloc[[0,3]])"
      ],
      "metadata": {
        "colab": {
          "base_uri": "https://localhost:8080/"
        },
        "id": "WXPtOIXzWYG3",
        "outputId": "8b7b4c58-bc59-46bb-b89a-281441f12100"
      },
      "execution_count": 34,
      "outputs": [
        {
          "output_type": "stream",
          "name": "stdout",
          "text": [
            "00    2020\n",
            "01    2020\n",
            "02    2021\n",
            "03    2021\n",
            "Name: Year, dtype: int64\n",
            "    Year  Revenue\n",
            "00  2020      100\n",
            "01  2020      150\n",
            "02  2021      200\n",
            "03  2021      250\n",
            "Year       2020\n",
            "Quarter      Q1\n",
            "Revenue     100\n",
            "Name: 00, dtype: object\n",
            "    Year Quarter  Revenue\n",
            "00  2020      Q1      100\n",
            "02  2021      Q1      200\n",
            "Year       2020\n",
            "Quarter      Q1\n",
            "Revenue     100\n",
            "Name: 00, dtype: object\n",
            "    Year Quarter  Revenue\n",
            "00  2020      Q1      100\n",
            "03  2021      Q2      250\n"
          ]
        }
      ]
    },
    {
      "cell_type": "code",
      "source": [
        "#Boolean indexing\n",
        "mask = df['Revenue'] > 150\n",
        "\n",
        "print(df[mask])"
      ],
      "metadata": {
        "colab": {
          "base_uri": "https://localhost:8080/"
        },
        "id": "MZRoAUqUXjFd",
        "outputId": "b807320e-4063-4685-a68f-67b9af3ae527"
      },
      "execution_count": 36,
      "outputs": [
        {
          "output_type": "stream",
          "name": "stdout",
          "text": [
            "    Year Quarter  Revenue\n",
            "02  2021      Q1      200\n",
            "03  2021      Q2      250\n"
          ]
        }
      ]
    },
    {
      "cell_type": "markdown",
      "source": [
        "# Adding new colums\n",
        "we can add new columns, we can simply assign values to a new columns name"
      ],
      "metadata": {
        "id": "bI4Vkp7fXtfv"
      }
    },
    {
      "cell_type": "code",
      "source": [
        "#create a new column\n",
        "df2['New Column'] = [10, 20, 30, 40]"
      ],
      "metadata": {
        "id": "MiNpzla4X3J_"
      },
      "execution_count": 44,
      "outputs": []
    },
    {
      "cell_type": "markdown",
      "source": [
        "Assign a value to a specific cell"
      ],
      "metadata": {
        "id": "fhaEadR9YB8h"
      }
    },
    {
      "cell_type": "code",
      "source": [
        "print(df2)\n",
        "\n",
        "df2.loc['00', 'New Column'] = 100\n",
        "print()\n",
        "print(df2)\n",
        "\n",
        "df2.loc['00':'02', 'New Column'] = 200\n",
        "print()\n",
        "print(df2)\n"
      ],
      "metadata": {
        "colab": {
          "base_uri": "https://localhost:8080/"
        },
        "id": "cQNuh2jvYFSQ",
        "outputId": "5d047aea-aa05-4b46-ac43-582091812db3"
      },
      "execution_count": 49,
      "outputs": [
        {
          "output_type": "stream",
          "name": "stdout",
          "text": [
            "    Year Quarter  Revenue  New Column\n",
            "00  2020      Q1      100         100\n",
            "01  2020      Q2      150          20\n",
            "02  2021      Q1      200          30\n",
            "03  2021      Q2      250          40\n",
            "\n",
            "    Year Quarter  Revenue  New Column\n",
            "00  2020      Q1      100         100\n",
            "01  2020      Q2      150          20\n",
            "02  2021      Q1      200          30\n",
            "03  2021      Q2      250          40\n",
            "\n",
            "    Year Quarter  Revenue  New Column\n",
            "00  2020      Q1      100         200\n",
            "01  2020      Q2      150         200\n",
            "02  2021      Q1      200         200\n",
            "03  2021      Q2      250          40\n"
          ]
        }
      ]
    },
    {
      "cell_type": "markdown",
      "source": [
        "# Unary Operations\n",
        "are performed elemnt-wise like (+,-,/,*,**, abs(), sqrt(), exp(), etc..)"
      ],
      "metadata": {
        "id": "-LuqxA07ZHQb"
      }
    },
    {
      "cell_type": "code",
      "source": [
        "s = pd.Series([3, 1, 10], index=['b', 'a', 'c'])\n",
        "s2 = pd.Series([1, 3, 30], index=['a','b', 'd'])\n",
        "\n",
        "#since each unary op is performed element-wise, if an index is not present in both --> NaN\n",
        "print(s+s2)"
      ],
      "metadata": {
        "colab": {
          "base_uri": "https://localhost:8080/"
        },
        "id": "mumhDENaZT2q",
        "outputId": "a8ced420-e27c-4236-be99-c9dbef1e276d"
      },
      "execution_count": 51,
      "outputs": [
        {
          "output_type": "stream",
          "name": "stdout",
          "text": [
            "a    2.0\n",
            "b    6.0\n",
            "c    NaN\n",
            "d    NaN\n",
            "dtype: float64\n"
          ]
        }
      ]
    },
    {
      "cell_type": "markdown",
      "source": [
        "# Detecting Missing Data\n",
        "how to identify and handle missing values. <br>\n",
        "**NB:** remember that null is different from NaN\n",
        "\n",
        "\n"
      ],
      "metadata": {
        "id": "VJ3hXDjaaE-3"
      }
    },
    {
      "cell_type": "code",
      "source": [
        "#DETECTING MISSING VALUES\n",
        "print(df.isnull()) # null values\n",
        "print()\n",
        "\n",
        "print(df.isna()) #NaN values"
      ],
      "metadata": {
        "colab": {
          "base_uri": "https://localhost:8080/"
        },
        "id": "1b37gklzaK_Z",
        "outputId": "eecf0b4b-0903-4b37-b56d-4b6e8808b2be"
      },
      "execution_count": 55,
      "outputs": [
        {
          "output_type": "stream",
          "name": "stdout",
          "text": [
            "     Year  Quarter  Revenue  New Column\n",
            "00  False    False    False       False\n",
            "01  False    False    False       False\n",
            "02  False    False    False       False\n",
            "03  False    False    False        True\n",
            "\n",
            "     Year  Quarter  Revenue  New Column\n",
            "00  False    False    False       False\n",
            "01  False    False    False       False\n",
            "02  False    False    False       False\n",
            "03  False    False    False        True\n"
          ]
        }
      ]
    },
    {
      "cell_type": "markdown",
      "source": [
        "# Handling Missing Values\n",
        "we can handle missing values data by either **filling with a value** or **dropping rows/columns**"
      ],
      "metadata": {
        "id": "Df2-ti77atqg"
      }
    },
    {
      "cell_type": "code",
      "source": [
        "import numpy as np\n",
        "data = {\n",
        "    'Year': [2020, 2020, 2021, 2021],\n",
        "    'Quarter': ['Q1', 'Q2', 'Q1', 'Q2'],\n",
        "    'Revenue': [100, np.nan, 200, np.nan],\n",
        "}\n",
        "\n",
        "df_test = pd.DataFrame(data)\n",
        "\n",
        "#Filling missing values\n",
        "df_test.fillna(0, inplace=True)\n",
        "print(df_test)\n",
        "print()\n",
        "\n",
        "df_test = pd.DataFrame(data)\n",
        "\n",
        "#Drop wors with any missing value\n",
        "df_test.dropna(inplace=True)\n",
        "print(df_test)\n",
        "\n"
      ],
      "metadata": {
        "colab": {
          "base_uri": "https://localhost:8080/"
        },
        "id": "3706j_R0atPF",
        "outputId": "77291620-b7e0-49fd-89e2-27d26e146497"
      },
      "execution_count": 63,
      "outputs": [
        {
          "output_type": "stream",
          "name": "stdout",
          "text": [
            "   Year Quarter  Revenue\n",
            "0  2020      Q1    100.0\n",
            "1  2020      Q2      0.0\n",
            "2  2021      Q1    200.0\n",
            "3  2021      Q2      0.0\n",
            "\n",
            "   Year Quarter  Revenue\n",
            "0  2020      Q1    100.0\n",
            "2  2021      Q1    200.0\n"
          ]
        }
      ]
    },
    {
      "cell_type": "markdown",
      "source": [
        "# Combinig Data\n",
        "we have several method to concatenate, merge, join, and append data"
      ],
      "metadata": {
        "id": "Y4UeKjQWbyLU"
      }
    },
    {
      "cell_type": "markdown",
      "source": [
        "**Concatenation**: appends a specific Series or DataFrame along a specified axis"
      ],
      "metadata": {
        "id": "vpBGn8cIb7uj"
      }
    },
    {
      "cell_type": "code",
      "source": [
        "df1 = pd.DataFrame({\n",
        "   'A' : ['A0','A1','A2'],\n",
        "   'B' : ['B0', 'B1', 'B2'],\n",
        "   'C' : ['C0', 'C1', 'C2']\n",
        "}, index=[0,1,2])\n",
        "\n",
        "\n",
        "df2 = pd.DataFrame({\n",
        "   'A' : ['A3','A4','A5'],\n",
        "   'B' : ['B3', 'B4', 'B5'],\n",
        "   'C' : ['C3', 'C4', 'C5']\n",
        "}, index=[3,4,5])\n",
        "\n",
        "#default by axis 0\n",
        "result = pd.concat((df1,df2))\n",
        "print(result)\n",
        "print()\n",
        "\n",
        "result = pd.concat((df1,df2),axis=1)\n",
        "print(result)\n",
        "\n",
        "#NB: if an index or a column is missing in the dataset the concat automatically sets those values to NaN\n"
      ],
      "metadata": {
        "colab": {
          "base_uri": "https://localhost:8080/"
        },
        "id": "Oxv8z38VapM-",
        "outputId": "1e01123e-4e4a-4f39-924b-d6379b186225"
      },
      "execution_count": 71,
      "outputs": [
        {
          "output_type": "stream",
          "name": "stdout",
          "text": [
            "    A   B   C\n",
            "0  A0  B0  C0\n",
            "1  A1  B1  C1\n",
            "2  A2  B2  C2\n",
            "3  A3  B3  C3\n",
            "4  A4  B4  C4\n",
            "5  A5  B5  C5\n",
            "\n",
            "     A    B    C    A    B    C\n",
            "0   A0   B0   C0  NaN  NaN  NaN\n",
            "1   A1   B1   C1  NaN  NaN  NaN\n",
            "2   A2   B2   C2  NaN  NaN  NaN\n",
            "3  NaN  NaN  NaN   A3   B3   C3\n",
            "4  NaN  NaN  NaN   A4   B4   C4\n",
            "5  NaN  NaN  NaN   A5   B5   C5\n"
          ]
        }
      ]
    },
    {
      "cell_type": "markdown",
      "source": [
        "# Merge\n",
        "similar to SQL joins, we can combine dataFrames based on one or more keys: inner, outer, left, right"
      ],
      "metadata": {
        "id": "yqBdvJZ7dnz3"
      }
    },
    {
      "cell_type": "code",
      "source": [
        "left = pd.DataFrame({\n",
        "    'key' : ['K0', 'K1', 'K2'],\n",
        "    'A' : ['A0', 'A1', 'A2']\n",
        "})\n",
        "\n",
        "right = pd.DataFrame({\n",
        "    'key' : ['K0', 'K2', 'K3'],\n",
        "    'A' : ['B0', 'B2', 'B3']\n",
        "})\n",
        "\n",
        "#inner takes only values which are present in both\n",
        "result = pd.merge(left, right, on='key', how='inner')\n",
        "print(result)\n",
        "print()\n",
        "\n",
        "#outer takes all values, and sets NaN on index which are not present\n",
        "result = pd.merge(left, right, on='key', how='outer')\n",
        "print(result)\n",
        "print()\n",
        "\n",
        "#left takes all from the left dataframe, and from the right one only the keys which are present\n",
        "result = pd.merge(left, right, on='key', how='left')\n",
        "print(result)\n",
        "print()"
      ],
      "metadata": {
        "colab": {
          "base_uri": "https://localhost:8080/"
        },
        "id": "q2xp3nmqd1wU",
        "outputId": "3a2d0576-e1da-4ae0-b51e-ba40020e8587"
      },
      "execution_count": 79,
      "outputs": [
        {
          "output_type": "stream",
          "name": "stdout",
          "text": [
            "  key A_x A_y\n",
            "0  K0  A0  B0\n",
            "1  K2  A2  B2\n",
            "\n",
            "  key  A_x  A_y\n",
            "0  K0   A0   B0\n",
            "1  K1   A1  NaN\n",
            "2  K2   A2   B2\n",
            "3  K3  NaN   B3\n",
            "\n",
            "  key A_x  A_y\n",
            "0  K0  A0   B0\n",
            "1  K1  A1  NaN\n",
            "2  K2  A2   B2\n",
            "\n"
          ]
        }
      ]
    },
    {
      "cell_type": "markdown",
      "source": [
        "# Grouping\n",
        "grouping allows you to group data by one or more columns and perform aggregation functions"
      ],
      "metadata": {
        "id": "awyeyAh0fAmT"
      }
    },
    {
      "cell_type": "code",
      "source": [
        "df = pd.DataFrame({\n",
        "    'k': ['a','b', 'a', 'b'],\n",
        "    'c1': [2,10,3,15],\n",
        "    'c2' : [4,20, 5,30]\n",
        "})\n",
        "\n",
        "#this is not a df, it is an obj\n",
        "grouped_df = df.groupby('k')\n",
        "#we can apply aggregate functions\n",
        "print(grouped_df.agg('mean'))\n",
        "\n",
        "#we can also group by multiple columns\n",
        "df.groupby(['k','c1'])"
      ],
      "metadata": {
        "colab": {
          "base_uri": "https://localhost:8080/"
        },
        "id": "opegslRXfxxk",
        "outputId": "5be91495-17dd-4f10-e7cd-7543abf80c46"
      },
      "execution_count": 89,
      "outputs": [
        {
          "output_type": "stream",
          "name": "stdout",
          "text": [
            "     c1    c2\n",
            "k            \n",
            "a   2.5   4.5\n",
            "b  12.5  25.0\n"
          ]
        },
        {
          "output_type": "execute_result",
          "data": {
            "text/plain": [
              "<pandas.core.groupby.generic.DataFrameGroupBy object at 0x77fda4bbcdd0>"
            ]
          },
          "metadata": {},
          "execution_count": 89
        }
      ]
    },
    {
      "cell_type": "markdown",
      "source": [
        "# Filtering\n",
        "we can filter rows or a group of rows by expressing a condition"
      ],
      "metadata": {
        "id": "jhhoBhXVg0la"
      }
    },
    {
      "cell_type": "code",
      "source": [
        "grouped_filtered = grouped_df.filter(lambda x: x['c1'].mean() > 5)\n",
        "\n",
        "#in this case we have a DataFrame\n",
        "print(grouped_filtered)"
      ],
      "metadata": {
        "colab": {
          "base_uri": "https://localhost:8080/"
        },
        "id": "rQgnrwsxhJs1",
        "outputId": "c79ce456-6f71-4166-ef1f-e12b338d85aa"
      },
      "execution_count": 93,
      "outputs": [
        {
          "output_type": "stream",
          "name": "stdout",
          "text": [
            "   k  c1  c2\n",
            "1  b  10  20\n",
            "3  b  15  30\n"
          ]
        }
      ]
    },
    {
      "cell_type": "markdown",
      "source": [
        "# Pivoting\n",
        "allows inspecting relationships within a dataset.\n",
        "\n",
        "\n",
        "*   index: rows groupping\n",
        "*   columns: new columns headers\n",
        "*   values: data to fill the table\n",
        "*   aggfunct: used if there are col/rows duplicates"
      ],
      "metadata": {
        "id": "czEvRVdthqCc"
      }
    },
    {
      "cell_type": "code",
      "source": [
        "data = pd.DataFrame({\n",
        "    'Name' : ['Alice', 'Bob', 'Alice', 'Bob'],\n",
        "    'Month' : ['Jan', 'Feb', 'Jan', 'Feb'],\n",
        "    'Sales' : [200, 150, 210, 180]\n",
        "    })\n",
        "\n",
        "#ValueError: Index contains duplicate entries, cannot reshape\n",
        "# pivot = data.pivot(index='Name', columns='Month', values='Sales') --> we have some duplicates\n",
        "\n",
        "pivot = data.pivot_table(index='Name', columns='Month', values='Sales', aggfunc='sum')"
      ],
      "metadata": {
        "id": "0I34hW3liFg3"
      },
      "execution_count": 102,
      "outputs": []
    }
  ]
}