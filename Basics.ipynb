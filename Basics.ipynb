{
  "nbformat": 4,
  "nbformat_minor": 0,
  "metadata": {
    "colab": {
      "provenance": [],
      "authorship_tag": "ABX9TyPXfrvdcM3wZidWKQnZoYPa",
      "include_colab_link": true
    },
    "kernelspec": {
      "name": "python3",
      "display_name": "Python 3"
    },
    "language_info": {
      "name": "python"
    }
  },
  "cells": [
    {
      "cell_type": "markdown",
      "metadata": {
        "id": "view-in-github",
        "colab_type": "text"
      },
      "source": [
        "<a href=\"https://colab.research.google.com/github/lucianoselimaj/MLDL_Labs/blob/main/Basics.ipynb\" target=\"_parent\"><img src=\"https://colab.research.google.com/assets/colab-badge.svg\" alt=\"Open In Colab\"/></a>"
      ]
    },
    {
      "cell_type": "markdown",
      "source": [
        "Tuple: immutable sequence of heterogeneos variables\n"
      ],
      "metadata": {
        "id": "j48eLW4wsSXk"
      }
    },
    {
      "cell_type": "code",
      "source": [
        "#Definition\n",
        "t1 = ('turin','milan')\n",
        "t2 = 'italy','france' #Optional parentheses\n",
        "t3 = ('Rome', 2, 25.8)\n",
        "t4 = ('London',)\n",
        "\n",
        "x,y = t1 # unpacking\n",
        "\n",
        "#swapping\n",
        "a = 1\n",
        "b = 2\n",
        "a, b = b, a\n",
        "\n",
        "#Concatenation\n",
        "print(t1 + t2)\n",
        "\n",
        "#Accessing elements\n",
        "val = t1[0]\n",
        "#t1[0] = 2 ---> Error, tuples are imutable\n"
      ],
      "metadata": {
        "colab": {
          "base_uri": "https://localhost:8080/"
        },
        "id": "ANQfxztxsS8Q",
        "outputId": "547d3481-eb8f-45b3-c16f-3f1efa621f49"
      },
      "execution_count": null,
      "outputs": [
        {
          "output_type": "stream",
          "name": "stdout",
          "text": [
            "('turin', 'milan', 'italy', 'france')\n"
          ]
        }
      ]
    },
    {
      "cell_type": "markdown",
      "source": [
        "List: Mutable sequence of heterogeneous elements, where each element is a reference to a python object"
      ],
      "metadata": {
        "id": "Pap-l3-xQXhu"
      }
    },
    {
      "cell_type": "code",
      "source": [
        "#empty list\n",
        "l = []\n",
        "l2 = [1, 'str', 5.6, None]\n",
        "\n",
        "#Adding elements and concatenationg list\n",
        "l1 = [2,4,6]\n",
        "l2 = [1,3,5]\n",
        "l1.append(8) #Append an element to l1\n",
        "l3 = l1 +l2 #Concatenation\n",
        "\n",
        "#Counting the occurrences\n",
        "l1.count(2)\n",
        "#Extend a list\n",
        "l1.extend(l2)\n",
        "#Insert an element at position\n",
        "l1.insert(0, 0)\n",
        "#remove by position\n",
        "l1.pop(0)\n",
        "#Returns position of first occurrence of element\n",
        "l1.index(6)\n",
        "\n",
        "#Accessing elements\n",
        "print(l1[0])\n",
        "l1[0] = 'test' # in this case there isn't an error\n",
        "print(l1[::1]) #start-stop-step, -1 reverse order\n",
        "\n",
        "#Assigning multiple elements\n",
        "l1 = [0,1,2,3,4]\n",
        "l1[0:4] = ['a','b','c']\n",
        "\n",
        "#Removing multiple elements\n",
        "del l1[1:-1]\n",
        "\n",
        "#check if ana element belong to a list\n",
        "l1 = [0,1,2,3,4]\n",
        "if 2 in l1:\n",
        "  print('Already present')\n",
        "\n",
        "#MIN,MAX, SUM\n",
        "min_val = min(l1)\n",
        "max_val = max(l1)\n",
        "sum_val = sum(l1)\n",
        "\n",
        "#Sorting\n",
        "l2 = sorted(l1)\n",
        "l3 = sorted(l1, reverse=True)"
      ],
      "metadata": {
        "colab": {
          "base_uri": "https://localhost:8080/"
        },
        "id": "p9fn9Z80Qr4x",
        "outputId": "fcce7f16-37e2-4efd-ddfc-ccef65cdaf7c"
      },
      "execution_count": null,
      "outputs": [
        {
          "output_type": "stream",
          "name": "stdout",
          "text": [
            "2\n",
            "['test', 4, 6, 8, 1, 3, 5]\n",
            "Already present\n"
          ]
        }
      ]
    },
    {
      "cell_type": "markdown",
      "source": [
        "Set: Unordered collection of unique elements"
      ],
      "metadata": {
        "id": "ULDdERziT76Q"
      }
    },
    {
      "cell_type": "code",
      "source": [
        "s0 = set() #empty set\n",
        "s1 = {1,2,3}\n",
        "s2 = {3,3,b,b}\n",
        "s3 = set([3,3,1,2])\n",
        "print(s2)\n",
        "\n",
        "#Operations\n",
        "union = s1 | s2\n",
        "instersection = s1 & s2\n",
        "difference = s1 - s2\n",
        "\"\"\"\n",
        "subset <=\n",
        "proper subset <\n",
        "superset >=\n",
        "proper superset >\n",
        "\"\"\"\n",
        "\n",
        "#Add remove elements\n",
        "s1 = {1,2,3}\n",
        "s1.add('4')\n",
        "s1.remove(3)"
      ],
      "metadata": {
        "colab": {
          "base_uri": "https://localhost:8080/"
        },
        "id": "4XMmGmy7UuzL",
        "outputId": "f7d7ef3a-50c6-4fe3-a8dc-7537ac9fe7f5"
      },
      "execution_count": null,
      "outputs": [
        {
          "output_type": "stream",
          "name": "stdout",
          "text": [
            "{1, 3}\n"
          ]
        }
      ]
    },
    {
      "cell_type": "markdown",
      "source": [
        "Dictionary: collection of key-value pairs. It allows fast access of elements by key(which are unique)"
      ],
      "metadata": {
        "id": "QrsIX7nKY6ui"
      }
    },
    {
      "cell_type": "code",
      "source": [
        "d1 = {'Name': 'Jhon', 'Age': 25}\n",
        "d0 = {} #Empty dictionary\n",
        "\n",
        "\"\"\"\n",
        "The key must be hashable:\n",
        "-int, float, bool, string, tuple\n",
        "d1 = {('a','b') : 120, ('c','d','e') : 1000}\n",
        "\"\"\"\n",
        "\n",
        "#Element access\n",
        "images = {10: 'img1', 20 : 'img2'}\n",
        "t = images[10] #using the key\n",
        "#t = image[8] #error\n",
        "t = images.get(8, 'error, index not fuond')\n",
        "print(t)\n",
        "\n",
        "#Keys and indexes\n",
        "keys = list(images.keys())\n",
        "values = list(images.values())\n",
        "\n",
        "#Adding/updating values\n",
        "occur = {'Car' : 33, 'Truck' : 55}\n",
        "occur['Car'] = 500 #update\n",
        "occur['new'] = 100\n",
        "\n",
        "#deleting a key\n",
        "del occur['Truck']\n",
        "\n",
        "#Check in\n",
        "if 'Truck' in occur:\n",
        "  print('truck is already present')\n",
        "\n",
        "#Iterating keys and values\n",
        "basket = {'Cola' : 0.99, 'Apples' : 1.5, 'Salt' : 0.4}\n",
        "price = 0\n",
        "\n",
        "for k, v in basket.items():\n",
        "  price += v\n",
        "  print(f'{k}: {price}')\n"
      ],
      "metadata": {
        "colab": {
          "base_uri": "https://localhost:8080/"
        },
        "id": "LLlPhdBpZHxK",
        "outputId": "abd8c099-dbcd-4414-b29b-a2e1df16344e"
      },
      "execution_count": null,
      "outputs": [
        {
          "output_type": "stream",
          "name": "stdout",
          "text": [
            "error, index not fuond\n",
            "Cola: 0.99\n",
            "Apples: 2.49\n",
            "Salt: 2.89\n"
          ]
        }
      ]
    },
    {
      "cell_type": "markdown",
      "source": [
        "Shallow and Deep copy"
      ],
      "metadata": {
        "id": "QqNx-xd0fhr_"
      }
    },
    {
      "cell_type": "code",
      "source": [
        "parent = [ [ 1, 2 ], ('a', 'b') ]\n",
        "\n",
        "#Shallow, copy the parent object, keep references to children ---> parent.copy()\n",
        "temperatures = {'Turin':[10,12,10], 'Milan':[15,16,16]}\n",
        "temp2 = temperatures.copy()\n",
        "temp2['Turin'].append(13) # Edit child node\n",
        "temp2['Rome'] = [10, 11, 10] # Edit parent node\n",
        "print(temperatures)\n",
        "print(temp2)\n",
        "print()\n",
        "#Deep, recursively copies all children nodes of parent object\n",
        "import copy\n",
        "temperatures = {'Turin':[10,12,10], 'Milan':[15,16,16]}\n",
        "temp2 = copy.deepcopy(temperatures)\n",
        "temp2['Turin'].append(13) # Edit child node\n",
        "temp2['Rome'] = [10, 11, 10] # Edit parent node\n",
        "print(temperatures)\n",
        "print(temp2)"
      ],
      "metadata": {
        "colab": {
          "base_uri": "https://localhost:8080/"
        },
        "id": "WKkai0zrfn1a",
        "outputId": "77b8c99e-f2a4-4fcf-e831-054d298298e5"
      },
      "execution_count": null,
      "outputs": [
        {
          "output_type": "stream",
          "name": "stdout",
          "text": [
            "{'Turin': [10, 12, 10, 13], 'Milan': [15, 16, 16]}\n",
            "{'Turin': [10, 12, 10, 13], 'Milan': [15, 16, 16], 'Rome': [10, 11, 10]}\n",
            "\n",
            "{'Turin': [10, 12, 10], 'Milan': [15, 16, 16]}\n",
            "{'Turin': [10, 12, 10, 13], 'Milan': [15, 16, 16], 'Rome': [10, 11, 10]}\n"
          ]
        }
      ]
    },
    {
      "cell_type": "markdown",
      "source": [
        "<pre>IF-ELSE structure: <br>\n",
        "if condition:<br>\n",
        "  //code<br>\n",
        "elif condition:<br>\n",
        "  //code<br>\n",
        "else:<br>\n",
        "  //code<br>"
      ],
      "metadata": {
        "id": "LV2slpwUhQ49"
      }
    },
    {
      "cell_type": "markdown",
      "source": [
        "Iterationg for a fixed number of times"
      ],
      "metadata": {
        "id": "BSybSebpiZ2Y"
      }
    },
    {
      "cell_type": "code",
      "source": [
        "#starting index included\n",
        "for i in range(5,8):\n",
        "  print(f\"The value of i is {i}\")"
      ],
      "metadata": {
        "colab": {
          "base_uri": "https://localhost:8080/"
        },
        "id": "X93Q1nRrhQl8",
        "outputId": "f4df5995-f1f2-4d6c-c487-08be8868c8f9"
      },
      "execution_count": null,
      "outputs": [
        {
          "output_type": "stream",
          "name": "stdout",
          "text": [
            "The value of i is 5\n",
            "The value of i is 6\n",
            "The value of i is 7\n"
          ]
        }
      ]
    },
    {
      "cell_type": "markdown",
      "source": [
        "Enumerationg: Associate elementsn and their indexes"
      ],
      "metadata": {
        "id": "p9zfDfGXixip"
      }
    },
    {
      "cell_type": "code",
      "source": [
        "my_list = ['a', 'b', 'c']\n",
        "for i, element in enumerate(my_list):\n",
        "  print(f\"The value of my_list[{i}] is {element}\")"
      ],
      "metadata": {
        "id": "ZM4OrMnti22u"
      },
      "execution_count": null,
      "outputs": []
    },
    {
      "cell_type": "markdown",
      "source": [
        "Zip: iterationg multipe lists"
      ],
      "metadata": {
        "id": "2ttQZRIXjzBV"
      }
    },
    {
      "cell_type": "code",
      "source": [
        "my_list1 = ['a', 'b', 'c']\n",
        "my_list2 = ['A', 'B', 'C']\n",
        "\n",
        "for el1, el2 in zip(my_list1, my_list2):\n",
        "  print(f\"El1: {el1}, el2: {el2}\")"
      ],
      "metadata": {
        "id": "qx3FPva-ldGJ"
      },
      "execution_count": null,
      "outputs": []
    },
    {
      "cell_type": "markdown",
      "source": [
        "Break/Continue"
      ],
      "metadata": {
        "id": "rLau1pKal8CO"
      }
    },
    {
      "cell_type": "code",
      "source": [
        "with open(\"./path\") as f:\n",
        "  for line in f:\n",
        "    if line == 'skip':\n",
        "      continue\n",
        "    elif line == 'end':\n",
        "      break\n",
        "    print(line)"
      ],
      "metadata": {
        "id": "Z7dp1nu3mAP4"
      },
      "execution_count": null,
      "outputs": []
    },
    {
      "cell_type": "markdown",
      "source": [
        "Functions"
      ],
      "metadata": {
        "id": "rXV1Bk1nmXER"
      }
    },
    {
      "cell_type": "code",
      "source": [
        "def function_name(param1, param2):\n",
        "  #//code\n",
        "  return()"
      ],
      "metadata": {
        "id": "9kKcMT1cmY1f"
      },
      "execution_count": null,
      "outputs": []
    },
    {
      "cell_type": "code",
      "source": [
        "def add_sub(x, y):\n",
        "  #functions can return tuples\n",
        "  return x+y, x-y\n",
        "\n",
        "summ, diff = add_sub(5, 3)\n",
        "print(f\"Sum is {summ}, difference is {diff}.\")"
      ],
      "metadata": {
        "id": "FfSDvPu9m13K"
      },
      "execution_count": null,
      "outputs": []
    },
    {
      "cell_type": "code",
      "source": [
        "def func(a, b, c='defC', d='defD'):\n",
        "  print(f\"{a}, {b}, {c}, {d}\")\n",
        "\n",
        "func(1, 2) # use default for c, d\n",
        "func(1, 2, 'a') # use default for d, not for c\n",
        "func(1, 2, d='b') # passing keyword argument\n",
        "func(b=2, a=1, d='b') # keyword order does not matter\n",
        "func(1, c='a') # Error: b not specified"
      ],
      "metadata": {
        "id": "aae8bFD-nEwc"
      },
      "execution_count": null,
      "outputs": []
    },
    {
      "cell_type": "markdown",
      "source": [
        "# Classes <br>\n",
        "*   class Dog: creates a new class.\n",
        "* __init__() is the constructor, automatically called when an object is created.\n",
        "* self refers to the current object.\n",
        "* self.name and self.breed are instance variables (unique to each object).\n",
        "\n",
        "\n"
      ],
      "metadata": {
        "id": "bviOUduyEUI0"
      }
    },
    {
      "cell_type": "code",
      "source": [
        "class Dog:\n",
        "    def __init__(self, name, breed):\n",
        "        self.name = name        # Attribute\n",
        "        self.breed = breed      # Attribute\n",
        "\n",
        "    def bark(self):            # Method\n",
        "        print(f\"{self.name} says Woof!\")"
      ],
      "metadata": {
        "id": "Nzb51QzDEWnN"
      },
      "execution_count": null,
      "outputs": []
    },
    {
      "cell_type": "markdown",
      "source": [
        "Creating an object"
      ],
      "metadata": {
        "id": "nTqY_FFIE-fa"
      }
    },
    {
      "cell_type": "code",
      "source": [
        "dog1 = Dog(\"Fido\", \"Labrador\")\n",
        "dog2 = Dog(\"Max\", \"Beagle\")\n",
        "\n",
        "dog1.bark()  # Output: Fido says Woof!\n",
        "dog2.bark()  # Output: Max says Woof!"
      ],
      "metadata": {
        "id": "XIXA2WPxEuPf"
      },
      "execution_count": null,
      "outputs": []
    },
    {
      "cell_type": "markdown",
      "source": [
        "Class vs Instance Variables"
      ],
      "metadata": {
        "id": "GO538LCPGXT3"
      }
    },
    {
      "cell_type": "code",
      "source": [
        "class Dog:\n",
        "    species = \"Canis familiaris\"  # Class variable\n",
        "    self.classvariable = 'classvar'\n",
        "    def __init__(self, name):\n",
        "        self.name = name          # Instance variable\n",
        "\n",
        "d = Dog(\"Buddy\")\n",
        "print(d.species)  # Canis familiaris"
      ],
      "metadata": {
        "id": "1gkiRsZaGaAY"
      },
      "execution_count": null,
      "outputs": []
    },
    {
      "cell_type": "markdown",
      "source": [
        "Inheritance"
      ],
      "metadata": {
        "id": "jnGfBwwfGxbf"
      }
    },
    {
      "cell_type": "code",
      "source": [
        "class Animal:\n",
        "    def speak(self):\n",
        "        print(\"Some sound\")\n",
        "\n",
        "class Cat(Animal): #Cat inherits from Animal but overrides speak()\n",
        "    def speak(self):\n",
        "        print(\"Meow\")\n",
        "\n",
        "c = Cat()\n",
        "c.speak()  # Output: Meow"
      ],
      "metadata": {
        "id": "euH--WCpGyBp"
      },
      "execution_count": null,
      "outputs": []
    },
    {
      "cell_type": "markdown",
      "source": [
        "| Method     | Purpose                       |\n",
        "| ---------- | ----------------------------- |\n",
        "| `__init__` | Constructor                   |\n",
        "| `__str__`  | String representation (print) |\n",
        "| `__len__`  | Used by `len()`               |\n",
        "| `__eq__`   | Equality check (`==`)         |\n"
      ],
      "metadata": {
        "id": "OTzI7KMwMh6s"
      }
    },
    {
      "cell_type": "code",
      "source": [
        "class Book:\n",
        "    def __init__(self, title):\n",
        "        self.title = title\n",
        "\n",
        "    def __str__(self):\n",
        "        return f\"Book: {self.title}\"\n",
        "\n",
        "b = Book(\"1984\")\n",
        "print(b)  # Output: Book: 1984"
      ],
      "metadata": {
        "id": "4KV6N506Mhjb"
      },
      "execution_count": null,
      "outputs": []
    }
  ]
}